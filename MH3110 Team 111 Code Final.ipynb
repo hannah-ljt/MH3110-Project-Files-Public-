{
 "cells": [
  {
   "cell_type": "markdown",
   "metadata": {},
   "source": [
    "MH3110 Team 111 Final Code\n",
    "=========================="
   ]
  },
  {
   "cell_type": "code",
   "execution_count": 9,
   "metadata": {},
   "outputs": [],
   "source": [
    "import numpy as np\n",
    "import matplotlib.pyplot as plt\n",
    "from scipy.integrate import odeint\n",
    "from scipy.integrate import solve_ivp\n",
    "import pandas as pd\n",
    "import pyswarms as ps\n",
    "import statistics"
   ]
  },
  {
   "cell_type": "markdown",
   "metadata": {},
   "source": [
    "Model\n",
    "-----"
   ]
  },
  {
   "cell_type": "code",
   "execution_count": 2,
   "metadata": {},
   "outputs": [],
   "source": [
    "# Define ODE model\n",
    "\n",
    "# X = Girl's love, Y = Guy's Love, Z = Homesickness\n",
    "def dXdt(alpha_1, r_1, K_1, theta_1, A_y, X, Y, Z):\n",
    "    return -alpha_1*X + r_1*Y*(1-Y/K_1) - theta_1*Z + A_y\n",
    "\n",
    "def dYdt(alpha_2, r_2, K_2, theta_2, A_x, X, Y, Z):\n",
    "    return -alpha_2*Y + r_2*Z*(1-Z/K_2) + theta_2*X + A_x\n",
    "\n",
    "def dZdt(alpha_3, beta_3, beta_4, X, Y, Z):\n",
    "    return -alpha_3*Z + beta_3*X + beta_4*Y"
   ]
  },
  {
   "cell_type": "markdown",
   "metadata": {},
   "source": [
    "Data\n",
    "----"
   ]
  },
  {
   "cell_type": "code",
   "execution_count": 3,
   "metadata": {},
   "outputs": [],
   "source": [
    "# Functions to call, load data and prepare data\n",
    "\n",
    "def load_data():\n",
    "\n",
    "    brooklyn2 = pd.read_excel('Data collection for Brooklynn.xlsx', 'Sheet2')\n",
    "    \n",
    "    out_df = brooklyn2[['Time (in hours and minutes)', 'Girl\\'s Feelings', 'Guy\\'s Feelings', 'Home Sickness']]\n",
    "    out_df.columns = ['t', 'x', 'y', 'z']\n",
    "    return out_df\n",
    "\n",
    "def convert_time_to_mins(string):\n",
    "    string = str(string)\n",
    "    hours = string.split(':')[0]\n",
    "    mins = string.split(':')[1]\n",
    "    \n",
    "    total_mins = int(hours)*60 + int(mins)\n",
    "    \n",
    "    return total_mins"
   ]
  },
  {
   "cell_type": "code",
   "execution_count": 4,
   "metadata": {},
   "outputs": [],
   "source": [
    "# Call data\n",
    "\n",
    "data = load_data()\n",
    "data['t'] = data['t'].apply(convert_time_to_mins)\n",
    "\n",
    "# Add initial conditions\n",
    "init_df = pd.DataFrame({'t' : [30], 'x': [0], 'y': [0], 'z': [-10]})\n",
    "data = pd.concat([init_df, data])"
   ]
  },
  {
   "cell_type": "code",
   "execution_count": 5,
   "metadata": {},
   "outputs": [
    {
     "data": {
      "text/html": [
       "<div>\n",
       "<style scoped>\n",
       "    .dataframe tbody tr th:only-of-type {\n",
       "        vertical-align: middle;\n",
       "    }\n",
       "\n",
       "    .dataframe tbody tr th {\n",
       "        vertical-align: top;\n",
       "    }\n",
       "\n",
       "    .dataframe thead th {\n",
       "        text-align: right;\n",
       "    }\n",
       "</style>\n",
       "<table border=\"1\" class=\"dataframe\">\n",
       "  <thead>\n",
       "    <tr style=\"text-align: right;\">\n",
       "      <th></th>\n",
       "      <th>t</th>\n",
       "      <th>x</th>\n",
       "      <th>y</th>\n",
       "      <th>z</th>\n",
       "    </tr>\n",
       "  </thead>\n",
       "  <tbody>\n",
       "    <tr>\n",
       "      <td>0</td>\n",
       "      <td>30</td>\n",
       "      <td>0</td>\n",
       "      <td>0</td>\n",
       "      <td>-10</td>\n",
       "    </tr>\n",
       "    <tr>\n",
       "      <td>0</td>\n",
       "      <td>35</td>\n",
       "      <td>0</td>\n",
       "      <td>3</td>\n",
       "      <td>-9</td>\n",
       "    </tr>\n",
       "    <tr>\n",
       "      <td>1</td>\n",
       "      <td>40</td>\n",
       "      <td>4</td>\n",
       "      <td>6</td>\n",
       "      <td>-5</td>\n",
       "    </tr>\n",
       "    <tr>\n",
       "      <td>2</td>\n",
       "      <td>45</td>\n",
       "      <td>7</td>\n",
       "      <td>8</td>\n",
       "      <td>-3</td>\n",
       "    </tr>\n",
       "    <tr>\n",
       "      <td>3</td>\n",
       "      <td>50</td>\n",
       "      <td>8</td>\n",
       "      <td>9</td>\n",
       "      <td>-2</td>\n",
       "    </tr>\n",
       "  </tbody>\n",
       "</table>\n",
       "</div>"
      ],
      "text/plain": [
       "    t  x  y   z\n",
       "0  30  0  0 -10\n",
       "0  35  0  3  -9\n",
       "1  40  4  6  -5\n",
       "2  45  7  8  -3\n",
       "3  50  8  9  -2"
      ]
     },
     "execution_count": 5,
     "metadata": {},
     "output_type": "execute_result"
    }
   ],
   "source": [
    "data.head()"
   ]
  },
  {
   "cell_type": "code",
   "execution_count": 6,
   "metadata": {},
   "outputs": [
    {
     "name": "stderr",
     "output_type": "stream",
     "text": [
      "2020-05-05 22:44:37,741 - numexpr.utils - INFO - NumExpr defaulting to 8 threads.\n"
     ]
    }
   ],
   "source": [
    "# Adjust time\n",
    "data['t'] = data['t'] - 30"
   ]
  },
  {
   "cell_type": "code",
   "execution_count": 7,
   "metadata": {},
   "outputs": [
    {
     "name": "stderr",
     "output_type": "stream",
     "text": [
      "2020-05-05 20:05:07,644 - matplotlib.backends.backend_ps - WARNING - The PostScript backend does not support transparency; partially transparent artists will be rendered opaque.\n",
      "2020-05-05 20:05:07,645 - matplotlib.backends.backend_ps - WARNING - The PostScript backend does not support transparency; partially transparent artists will be rendered opaque.\n",
      "2020-05-05 20:05:07,774 - matplotlib.backends.backend_ps - WARNING - The PostScript backend does not support transparency; partially transparent artists will be rendered opaque.\n",
      "2020-05-05 20:05:07,775 - matplotlib.backends.backend_ps - WARNING - The PostScript backend does not support transparency; partially transparent artists will be rendered opaque.\n"
     ]
    },
    {
     "data": {
      "image/png": "[encoded data removed]",
      "text/plain": [
       "<Figure size 432x288 with 1 Axes>"
      ]
     },
     "metadata": {
      "needs_background": "light"
     },
     "output_type": "display_data"
    }
   ],
   "source": [
    "# Plot the data\n",
    "\n",
    "ax = plt.gca()\n",
    "\n",
    "data.plot(x=\"t\", y=\"x\", ax=ax, label=\"Eilis's\")\n",
    "data.plot(x=\"t\", y=\"y\", ax=ax, label=\"Tony's\")\n",
    "data.plot(x=\"t\", y=\"z\", ax=ax, label=\"Homesickness\")\n",
    "\n",
    "plt.title(\"Emotions with time\")\n",
    "plt.ylabel(\"Emotions of character\")\n",
    "plt.xlabel(\"Time\")\n",
    "plt.legend(loc='center', bbox_to_anchor=(0.5, -0.2), ncol=3)\n",
    "\n",
    "plt.savefig(\"actual_against_t.eps\",  bbox_inches = \"tight\")"
   ]
  },
  {
   "cell_type": "markdown",
   "metadata": {},
   "source": [
    "Solve System\n",
    "------------"
   ]
  },
  {
   "cell_type": "code",
   "execution_count": 8,
   "metadata": {},
   "outputs": [],
   "source": [
    "# Solve the ODE's using odeint\n",
    "def solve(particle):\n",
    "    # Set the relevant parameters\n",
    "    alpha_1 = particle[0]\n",
    "    d_alpha_1 = particle[1]\n",
    "    d_alpha_2 = particle[2]\n",
    "    r_1 =particle[3]\n",
    "    d_r_1 = particle[4]\n",
    "    K_1 = particle[5]\n",
    "    d_K_1 = particle[6]\n",
    "    beta_4 = particle[7]\n",
    "    d_beta_4 = particle[8]\n",
    "    theta_1 = particle[9]\n",
    "    theta_2 = particle[10]\n",
    "    A_y = particle[11]\n",
    "    d_A_y = particle[12]\n",
    "    \n",
    "    alpha_2 = alpha_1 + d_alpha_1\n",
    "    alpha_3 = alpha_2 + d_alpha_2\n",
    "    r_2 = r_1 + d_r_1\n",
    "    K_2 = K_1 * d_K_1\n",
    "    beta_3 = beta_4 + d_beta_4\n",
    "    A_x = A_y + d_A_y\n",
    "\n",
    "    U0 = [0, 0, -10]\n",
    "    \n",
    "    def dUdt(U, t):\n",
    "        X = U[0]\n",
    "        Y = U[1]\n",
    "        Z = U[2]\n",
    "\n",
    "        dXdt_var = dXdt(alpha_1, r_1, K_1, theta_1, A_y, X, Y, Z)\n",
    "        dYdt_var = dYdt(alpha_2, r_2, K_2, theta_2, A_x, X, Y, Z)\n",
    "        dZdt_var = dZdt(alpha_3, beta_3, beta_4, X, Y, Z)\n",
    "\n",
    "        return [dXdt_var, dYdt_var, dZdt_var]\n",
    "\n",
    "    solution = odeint(dUdt, U0, data['t'])\n",
    "    \n",
    "    X = solution[:, 0]\n",
    "    Y = solution[:, 1]\n",
    "    Z = solution[:, 2]\n",
    "    return X, Y, Z"
   ]
  },
  {
   "cell_type": "markdown",
   "metadata": {},
   "source": [
    "PSO\n",
    "---"
   ]
  },
  {
   "cell_type": "code",
   "execution_count": 9,
   "metadata": {},
   "outputs": [],
   "source": [
    "# Define error function\n",
    "\n",
    "def L_error(particles):\n",
    "    error_lst = [error(i) for i in particles]\n",
    "    return error_lst\n",
    "\n",
    "def error(particle):\n",
    "    X, Y, Z = solve(particle)\n",
    "    X = np.array(X)\n",
    "    Y = np.array(Y)\n",
    "    Z = np.array(Z)\n",
    "    \n",
    "    error = np.mean((X-data['x'])**2 + (Y-data['y'])**2 + (Z-data['z'])**2)\n",
    "    return error"
   ]
  },
  {
   "cell_type": "code",
   "execution_count": 10,
   "metadata": {},
   "outputs": [
    {
     "ename": "KeyboardInterrupt",
     "evalue": "",
     "output_type": "error",
     "traceback": [
      "\u001b[0;31m---------------------------------------------------------------------------\u001b[0m",
      "\u001b[0;31mKeyboardInterrupt\u001b[0m                         Traceback (most recent call last)",
      "\u001b[0;32m<ipython-input-10-d9ed6b289108>\u001b[0m in \u001b[0;36m<module>\u001b[0;34m\u001b[0m\n\u001b[1;32m     11\u001b[0m \u001b[0;34m\u001b[0m\u001b[0m\n\u001b[1;32m     12\u001b[0m \u001b[0;31m# Perform optimization\u001b[0m\u001b[0;34m\u001b[0m\u001b[0;34m\u001b[0m\u001b[0;34m\u001b[0m\u001b[0m\n\u001b[0;32m---> 13\u001b[0;31m \u001b[0mL_stats\u001b[0m \u001b[0;34m=\u001b[0m \u001b[0moptimizer\u001b[0m\u001b[0;34m.\u001b[0m\u001b[0moptimize\u001b[0m\u001b[0;34m(\u001b[0m\u001b[0mL_error\u001b[0m\u001b[0;34m,\u001b[0m \u001b[0miters\u001b[0m\u001b[0;34m=\u001b[0m\u001b[0;36m5000\u001b[0m\u001b[0;34m)\u001b[0m\u001b[0;34m\u001b[0m\u001b[0;34m\u001b[0m\u001b[0m\n\u001b[0m",
      "\u001b[0;32m~/anaconda3/lib/python3.6/site-packages/pyswarms/single/global_best.py\u001b[0m in \u001b[0;36moptimize\u001b[0;34m(self, objective_func, iters, n_processes, **kwargs)\u001b[0m\n\u001b[1;32m    182\u001b[0m             \u001b[0;31m# Compute cost for current position and personal best\u001b[0m\u001b[0;34m\u001b[0m\u001b[0;34m\u001b[0m\u001b[0;34m\u001b[0m\u001b[0m\n\u001b[1;32m    183\u001b[0m             \u001b[0;31m# fmt: off\u001b[0m\u001b[0;34m\u001b[0m\u001b[0;34m\u001b[0m\u001b[0;34m\u001b[0m\u001b[0m\n\u001b[0;32m--> 184\u001b[0;31m             \u001b[0mself\u001b[0m\u001b[0;34m.\u001b[0m\u001b[0mswarm\u001b[0m\u001b[0;34m.\u001b[0m\u001b[0mcurrent_cost\u001b[0m \u001b[0;34m=\u001b[0m \u001b[0mcompute_objective_function\u001b[0m\u001b[0;34m(\u001b[0m\u001b[0mself\u001b[0m\u001b[0;34m.\u001b[0m\u001b[0mswarm\u001b[0m\u001b[0;34m,\u001b[0m \u001b[0mobjective_func\u001b[0m\u001b[0;34m,\u001b[0m \u001b[0mpool\u001b[0m\u001b[0;34m=\u001b[0m\u001b[0mpool\u001b[0m\u001b[0;34m,\u001b[0m \u001b[0;34m**\u001b[0m\u001b[0mkwargs\u001b[0m\u001b[0;34m)\u001b[0m\u001b[0;34m\u001b[0m\u001b[0;34m\u001b[0m\u001b[0m\n\u001b[0m\u001b[1;32m    185\u001b[0m             \u001b[0mself\u001b[0m\u001b[0;34m.\u001b[0m\u001b[0mswarm\u001b[0m\u001b[0;34m.\u001b[0m\u001b[0mpbest_pos\u001b[0m\u001b[0;34m,\u001b[0m \u001b[0mself\u001b[0m\u001b[0;34m.\u001b[0m\u001b[0mswarm\u001b[0m\u001b[0;34m.\u001b[0m\u001b[0mpbest_cost\u001b[0m \u001b[0;34m=\u001b[0m \u001b[0mcompute_pbest\u001b[0m\u001b[0;34m(\u001b[0m\u001b[0mself\u001b[0m\u001b[0;34m.\u001b[0m\u001b[0mswarm\u001b[0m\u001b[0;34m)\u001b[0m\u001b[0;34m\u001b[0m\u001b[0;34m\u001b[0m\u001b[0m\n\u001b[1;32m    186\u001b[0m             \u001b[0;31m# Set best_cost_yet_found for ftol\u001b[0m\u001b[0;34m\u001b[0m\u001b[0;34m\u001b[0m\u001b[0;34m\u001b[0m\u001b[0m\n",
      "\u001b[0;32m~/anaconda3/lib/python3.6/site-packages/pyswarms/backend/operators.py\u001b[0m in \u001b[0;36mcompute_objective_function\u001b[0;34m(swarm, objective_func, pool, **kwargs)\u001b[0m\n\u001b[1;32m    237\u001b[0m     \"\"\"\n\u001b[1;32m    238\u001b[0m     \u001b[0;32mif\u001b[0m \u001b[0mpool\u001b[0m \u001b[0;32mis\u001b[0m \u001b[0;32mNone\u001b[0m\u001b[0;34m:\u001b[0m\u001b[0;34m\u001b[0m\u001b[0;34m\u001b[0m\u001b[0m\n\u001b[0;32m--> 239\u001b[0;31m         \u001b[0;32mreturn\u001b[0m \u001b[0mobjective_func\u001b[0m\u001b[0;34m(\u001b[0m\u001b[0mswarm\u001b[0m\u001b[0;34m.\u001b[0m\u001b[0mposition\u001b[0m\u001b[0;34m,\u001b[0m \u001b[0;34m**\u001b[0m\u001b[0mkwargs\u001b[0m\u001b[0;34m)\u001b[0m\u001b[0;34m\u001b[0m\u001b[0;34m\u001b[0m\u001b[0m\n\u001b[0m\u001b[1;32m    240\u001b[0m     \u001b[0;32melse\u001b[0m\u001b[0;34m:\u001b[0m\u001b[0;34m\u001b[0m\u001b[0;34m\u001b[0m\u001b[0m\n\u001b[1;32m    241\u001b[0m         results = pool.map(\n",
      "\u001b[0;32m<ipython-input-9-615a3408710c>\u001b[0m in \u001b[0;36mL_error\u001b[0;34m(particles)\u001b[0m\n\u001b[1;32m      2\u001b[0m \u001b[0;34m\u001b[0m\u001b[0m\n\u001b[1;32m      3\u001b[0m \u001b[0;32mdef\u001b[0m \u001b[0mL_error\u001b[0m\u001b[0;34m(\u001b[0m\u001b[0mparticles\u001b[0m\u001b[0;34m)\u001b[0m\u001b[0;34m:\u001b[0m\u001b[0;34m\u001b[0m\u001b[0;34m\u001b[0m\u001b[0m\n\u001b[0;32m----> 4\u001b[0;31m     \u001b[0merror_lst\u001b[0m \u001b[0;34m=\u001b[0m \u001b[0;34m[\u001b[0m\u001b[0merror\u001b[0m\u001b[0;34m(\u001b[0m\u001b[0mi\u001b[0m\u001b[0;34m)\u001b[0m \u001b[0;32mfor\u001b[0m \u001b[0mi\u001b[0m \u001b[0;32min\u001b[0m \u001b[0mparticles\u001b[0m\u001b[0;34m]\u001b[0m\u001b[0;34m\u001b[0m\u001b[0;34m\u001b[0m\u001b[0m\n\u001b[0m\u001b[1;32m      5\u001b[0m     \u001b[0;32mreturn\u001b[0m \u001b[0merror_lst\u001b[0m\u001b[0;34m\u001b[0m\u001b[0;34m\u001b[0m\u001b[0m\n\u001b[1;32m      6\u001b[0m \u001b[0;34m\u001b[0m\u001b[0m\n",
      "\u001b[0;32m<ipython-input-9-615a3408710c>\u001b[0m in \u001b[0;36m<listcomp>\u001b[0;34m(.0)\u001b[0m\n\u001b[1;32m      2\u001b[0m \u001b[0;34m\u001b[0m\u001b[0m\n\u001b[1;32m      3\u001b[0m \u001b[0;32mdef\u001b[0m \u001b[0mL_error\u001b[0m\u001b[0;34m(\u001b[0m\u001b[0mparticles\u001b[0m\u001b[0;34m)\u001b[0m\u001b[0;34m:\u001b[0m\u001b[0;34m\u001b[0m\u001b[0;34m\u001b[0m\u001b[0m\n\u001b[0;32m----> 4\u001b[0;31m     \u001b[0merror_lst\u001b[0m \u001b[0;34m=\u001b[0m \u001b[0;34m[\u001b[0m\u001b[0merror\u001b[0m\u001b[0;34m(\u001b[0m\u001b[0mi\u001b[0m\u001b[0;34m)\u001b[0m \u001b[0;32mfor\u001b[0m \u001b[0mi\u001b[0m \u001b[0;32min\u001b[0m \u001b[0mparticles\u001b[0m\u001b[0;34m]\u001b[0m\u001b[0;34m\u001b[0m\u001b[0;34m\u001b[0m\u001b[0m\n\u001b[0m\u001b[1;32m      5\u001b[0m     \u001b[0;32mreturn\u001b[0m \u001b[0merror_lst\u001b[0m\u001b[0;34m\u001b[0m\u001b[0;34m\u001b[0m\u001b[0m\n\u001b[1;32m      6\u001b[0m \u001b[0;34m\u001b[0m\u001b[0m\n",
      "\u001b[0;32m<ipython-input-9-615a3408710c>\u001b[0m in \u001b[0;36merror\u001b[0;34m(particle)\u001b[0m\n\u001b[1;32m      6\u001b[0m \u001b[0;34m\u001b[0m\u001b[0m\n\u001b[1;32m      7\u001b[0m \u001b[0;32mdef\u001b[0m \u001b[0merror\u001b[0m\u001b[0;34m(\u001b[0m\u001b[0mparticle\u001b[0m\u001b[0;34m)\u001b[0m\u001b[0;34m:\u001b[0m\u001b[0;34m\u001b[0m\u001b[0;34m\u001b[0m\u001b[0m\n\u001b[0;32m----> 8\u001b[0;31m     \u001b[0mX\u001b[0m\u001b[0;34m,\u001b[0m \u001b[0mY\u001b[0m\u001b[0;34m,\u001b[0m \u001b[0mZ\u001b[0m \u001b[0;34m=\u001b[0m \u001b[0msolve\u001b[0m\u001b[0;34m(\u001b[0m\u001b[0mparticle\u001b[0m\u001b[0;34m)\u001b[0m\u001b[0;34m\u001b[0m\u001b[0;34m\u001b[0m\u001b[0m\n\u001b[0m\u001b[1;32m      9\u001b[0m     \u001b[0mX\u001b[0m \u001b[0;34m=\u001b[0m \u001b[0mnp\u001b[0m\u001b[0;34m.\u001b[0m\u001b[0marray\u001b[0m\u001b[0;34m(\u001b[0m\u001b[0mX\u001b[0m\u001b[0;34m)\u001b[0m\u001b[0;34m\u001b[0m\u001b[0;34m\u001b[0m\u001b[0m\n\u001b[1;32m     10\u001b[0m     \u001b[0mY\u001b[0m \u001b[0;34m=\u001b[0m \u001b[0mnp\u001b[0m\u001b[0;34m.\u001b[0m\u001b[0marray\u001b[0m\u001b[0;34m(\u001b[0m\u001b[0mY\u001b[0m\u001b[0;34m)\u001b[0m\u001b[0;34m\u001b[0m\u001b[0;34m\u001b[0m\u001b[0m\n",
      "\u001b[0;32m<ipython-input-8-aa8d0a6e6adf>\u001b[0m in \u001b[0;36msolve\u001b[0;34m(particle)\u001b[0m\n\u001b[1;32m     36\u001b[0m         \u001b[0;32mreturn\u001b[0m \u001b[0;34m[\u001b[0m\u001b[0mdXdt_var\u001b[0m\u001b[0;34m,\u001b[0m \u001b[0mdYdt_var\u001b[0m\u001b[0;34m,\u001b[0m \u001b[0mdZdt_var\u001b[0m\u001b[0;34m]\u001b[0m\u001b[0;34m\u001b[0m\u001b[0;34m\u001b[0m\u001b[0m\n\u001b[1;32m     37\u001b[0m \u001b[0;34m\u001b[0m\u001b[0m\n\u001b[0;32m---> 38\u001b[0;31m     \u001b[0msolution\u001b[0m \u001b[0;34m=\u001b[0m \u001b[0modeint\u001b[0m\u001b[0;34m(\u001b[0m\u001b[0mdUdt\u001b[0m\u001b[0;34m,\u001b[0m \u001b[0mU0\u001b[0m\u001b[0;34m,\u001b[0m \u001b[0mdata\u001b[0m\u001b[0;34m[\u001b[0m\u001b[0;34m't'\u001b[0m\u001b[0;34m]\u001b[0m\u001b[0;34m)\u001b[0m\u001b[0;34m\u001b[0m\u001b[0;34m\u001b[0m\u001b[0m\n\u001b[0m\u001b[1;32m     39\u001b[0m \u001b[0;34m\u001b[0m\u001b[0m\n\u001b[1;32m     40\u001b[0m     \u001b[0mX\u001b[0m \u001b[0;34m=\u001b[0m \u001b[0msolution\u001b[0m\u001b[0;34m[\u001b[0m\u001b[0;34m:\u001b[0m\u001b[0;34m,\u001b[0m \u001b[0;36m0\u001b[0m\u001b[0;34m]\u001b[0m\u001b[0;34m\u001b[0m\u001b[0;34m\u001b[0m\u001b[0m\n",
      "\u001b[0;32m~/anaconda3/lib/python3.6/site-packages/scipy/integrate/odepack.py\u001b[0m in \u001b[0;36modeint\u001b[0;34m(func, y0, t, args, Dfun, col_deriv, full_output, ml, mu, rtol, atol, tcrit, h0, hmax, hmin, ixpr, mxstep, mxhnil, mxordn, mxords, printmessg, tfirst)\u001b[0m\n\u001b[1;32m    242\u001b[0m                              \u001b[0mfull_output\u001b[0m\u001b[0;34m,\u001b[0m \u001b[0mrtol\u001b[0m\u001b[0;34m,\u001b[0m \u001b[0matol\u001b[0m\u001b[0;34m,\u001b[0m \u001b[0mtcrit\u001b[0m\u001b[0;34m,\u001b[0m \u001b[0mh0\u001b[0m\u001b[0;34m,\u001b[0m \u001b[0mhmax\u001b[0m\u001b[0;34m,\u001b[0m \u001b[0mhmin\u001b[0m\u001b[0;34m,\u001b[0m\u001b[0;34m\u001b[0m\u001b[0;34m\u001b[0m\u001b[0m\n\u001b[1;32m    243\u001b[0m                              \u001b[0mixpr\u001b[0m\u001b[0;34m,\u001b[0m \u001b[0mmxstep\u001b[0m\u001b[0;34m,\u001b[0m \u001b[0mmxhnil\u001b[0m\u001b[0;34m,\u001b[0m \u001b[0mmxordn\u001b[0m\u001b[0;34m,\u001b[0m \u001b[0mmxords\u001b[0m\u001b[0;34m,\u001b[0m\u001b[0;34m\u001b[0m\u001b[0;34m\u001b[0m\u001b[0m\n\u001b[0;32m--> 244\u001b[0;31m                              int(bool(tfirst)))\n\u001b[0m\u001b[1;32m    245\u001b[0m     \u001b[0;32mif\u001b[0m \u001b[0moutput\u001b[0m\u001b[0;34m[\u001b[0m\u001b[0;34m-\u001b[0m\u001b[0;36m1\u001b[0m\u001b[0;34m]\u001b[0m \u001b[0;34m<\u001b[0m \u001b[0;36m0\u001b[0m\u001b[0;34m:\u001b[0m\u001b[0;34m\u001b[0m\u001b[0;34m\u001b[0m\u001b[0m\n\u001b[1;32m    246\u001b[0m         \u001b[0mwarning_msg\u001b[0m \u001b[0;34m=\u001b[0m \u001b[0m_msgs\u001b[0m\u001b[0;34m[\u001b[0m\u001b[0moutput\u001b[0m\u001b[0;34m[\u001b[0m\u001b[0;34m-\u001b[0m\u001b[0;36m1\u001b[0m\u001b[0;34m]\u001b[0m\u001b[0;34m]\u001b[0m \u001b[0;34m+\u001b[0m \u001b[0;34m\" Run with full_output = 1 to get quantitative information.\"\u001b[0m\u001b[0;34m\u001b[0m\u001b[0;34m\u001b[0m\u001b[0m\n",
      "\u001b[0;32m<ipython-input-8-aa8d0a6e6adf>\u001b[0m in \u001b[0;36mdUdt\u001b[0;34m(U, t)\u001b[0m\n\u001b[1;32m     31\u001b[0m \u001b[0;34m\u001b[0m\u001b[0m\n\u001b[1;32m     32\u001b[0m         \u001b[0mdXdt_var\u001b[0m \u001b[0;34m=\u001b[0m \u001b[0mdXdt\u001b[0m\u001b[0;34m(\u001b[0m\u001b[0malpha_1\u001b[0m\u001b[0;34m,\u001b[0m \u001b[0mr_1\u001b[0m\u001b[0;34m,\u001b[0m \u001b[0mK_1\u001b[0m\u001b[0;34m,\u001b[0m \u001b[0mtheta_1\u001b[0m\u001b[0;34m,\u001b[0m \u001b[0mA_y\u001b[0m\u001b[0;34m,\u001b[0m \u001b[0mX\u001b[0m\u001b[0;34m,\u001b[0m \u001b[0mY\u001b[0m\u001b[0;34m,\u001b[0m \u001b[0mZ\u001b[0m\u001b[0;34m)\u001b[0m\u001b[0;34m\u001b[0m\u001b[0;34m\u001b[0m\u001b[0m\n\u001b[0;32m---> 33\u001b[0;31m         \u001b[0mdYdt_var\u001b[0m \u001b[0;34m=\u001b[0m \u001b[0mdYdt\u001b[0m\u001b[0;34m(\u001b[0m\u001b[0malpha_2\u001b[0m\u001b[0;34m,\u001b[0m \u001b[0mr_2\u001b[0m\u001b[0;34m,\u001b[0m \u001b[0mK_2\u001b[0m\u001b[0;34m,\u001b[0m \u001b[0mtheta_2\u001b[0m\u001b[0;34m,\u001b[0m \u001b[0mA_x\u001b[0m\u001b[0;34m,\u001b[0m \u001b[0mX\u001b[0m\u001b[0;34m,\u001b[0m \u001b[0mY\u001b[0m\u001b[0;34m,\u001b[0m \u001b[0mZ\u001b[0m\u001b[0;34m)\u001b[0m\u001b[0;34m\u001b[0m\u001b[0;34m\u001b[0m\u001b[0m\n\u001b[0m\u001b[1;32m     34\u001b[0m         \u001b[0mdZdt_var\u001b[0m \u001b[0;34m=\u001b[0m \u001b[0mdZdt\u001b[0m\u001b[0;34m(\u001b[0m\u001b[0malpha_3\u001b[0m\u001b[0;34m,\u001b[0m \u001b[0mbeta_3\u001b[0m\u001b[0;34m,\u001b[0m \u001b[0mbeta_4\u001b[0m\u001b[0;34m,\u001b[0m \u001b[0mX\u001b[0m\u001b[0;34m,\u001b[0m \u001b[0mY\u001b[0m\u001b[0;34m,\u001b[0m \u001b[0mZ\u001b[0m\u001b[0;34m)\u001b[0m\u001b[0;34m\u001b[0m\u001b[0;34m\u001b[0m\u001b[0m\n\u001b[1;32m     35\u001b[0m \u001b[0;34m\u001b[0m\u001b[0m\n",
      "\u001b[0;32m<ipython-input-2-baecd6b7828c>\u001b[0m in \u001b[0;36mdYdt\u001b[0;34m(alpha_2, r_2, K_2, theta_2, A_x, X, Y, Z)\u001b[0m\n\u001b[1;32m      6\u001b[0m \u001b[0;34m\u001b[0m\u001b[0m\n\u001b[1;32m      7\u001b[0m \u001b[0;32mdef\u001b[0m \u001b[0mdYdt\u001b[0m\u001b[0;34m(\u001b[0m\u001b[0malpha_2\u001b[0m\u001b[0;34m,\u001b[0m \u001b[0mr_2\u001b[0m\u001b[0;34m,\u001b[0m \u001b[0mK_2\u001b[0m\u001b[0;34m,\u001b[0m \u001b[0mtheta_2\u001b[0m\u001b[0;34m,\u001b[0m \u001b[0mA_x\u001b[0m\u001b[0;34m,\u001b[0m \u001b[0mX\u001b[0m\u001b[0;34m,\u001b[0m \u001b[0mY\u001b[0m\u001b[0;34m,\u001b[0m \u001b[0mZ\u001b[0m\u001b[0;34m)\u001b[0m\u001b[0;34m:\u001b[0m\u001b[0;34m\u001b[0m\u001b[0;34m\u001b[0m\u001b[0m\n\u001b[0;32m----> 8\u001b[0;31m     \u001b[0;32mreturn\u001b[0m \u001b[0;34m-\u001b[0m\u001b[0malpha_2\u001b[0m\u001b[0;34m*\u001b[0m\u001b[0mY\u001b[0m \u001b[0;34m+\u001b[0m \u001b[0mr_2\u001b[0m\u001b[0;34m*\u001b[0m\u001b[0mZ\u001b[0m\u001b[0;34m*\u001b[0m\u001b[0;34m(\u001b[0m\u001b[0;36m1\u001b[0m\u001b[0;34m-\u001b[0m\u001b[0mZ\u001b[0m\u001b[0;34m/\u001b[0m\u001b[0mK_2\u001b[0m\u001b[0;34m)\u001b[0m \u001b[0;34m+\u001b[0m \u001b[0mtheta_2\u001b[0m\u001b[0;34m*\u001b[0m\u001b[0mX\u001b[0m \u001b[0;34m+\u001b[0m \u001b[0mA_x\u001b[0m\u001b[0;34m\u001b[0m\u001b[0;34m\u001b[0m\u001b[0m\n\u001b[0m\u001b[1;32m      9\u001b[0m \u001b[0;34m\u001b[0m\u001b[0m\n\u001b[1;32m     10\u001b[0m \u001b[0;32mdef\u001b[0m \u001b[0mdZdt\u001b[0m\u001b[0;34m(\u001b[0m\u001b[0malpha_3\u001b[0m\u001b[0;34m,\u001b[0m \u001b[0mbeta_3\u001b[0m\u001b[0;34m,\u001b[0m \u001b[0mbeta_4\u001b[0m\u001b[0;34m,\u001b[0m \u001b[0mX\u001b[0m\u001b[0;34m,\u001b[0m \u001b[0mY\u001b[0m\u001b[0;34m,\u001b[0m \u001b[0mZ\u001b[0m\u001b[0;34m)\u001b[0m\u001b[0;34m:\u001b[0m\u001b[0;34m\u001b[0m\u001b[0;34m\u001b[0m\u001b[0m\n",
      "\u001b[0;31mKeyboardInterrupt\u001b[0m: "
     ]
    }
   ],
   "source": [
    "%%capture\n",
    "\n",
    "\n",
    "# Set-up hyperparameters\n",
    "options = {'c1': 0.5, 'c2': 0.3, 'w':0.9} # c1 = cognitive parameters, c2 = social parameters, w = inertia\n",
    "\n",
    "# Set bounds\n",
    "#                     alpha_1, d_alpha_1, d_alpha_2, r_1, d_r_1, K_1, d_K_1, beta_4, d_beta_4, theta_1, theta_2   A_y  d_A_y               \n",
    "constraints = (np.array([1,     0,        3,         0,   0,     5,    0.8,    0,        0,       0,      0,        0,   0]),\n",
    "               np.array([5,     5,        7,         5,   5,    10,    1.2,    2,        2,       2,      5,        10,  5]))\n",
    "\n",
    "# Call instance of GlobalBestPSO\n",
    "optimizer = ps.single.GlobalBestPSO(n_particles=20, dimensions=13, options=options, bounds=constraints)\n",
    "\n",
    "# Perform optimization\n",
    "L_stats = optimizer.optimize(L_error, iters=5000)"
   ]
  },
  {
   "cell_type": "code",
   "execution_count": 11,
   "metadata": {},
   "outputs": [
    {
     "ename": "NameError",
     "evalue": "name 'L_stats' is not defined",
     "output_type": "error",
     "traceback": [
      "\u001b[0;31m---------------------------------------------------------------------------\u001b[0m",
      "\u001b[0;31mNameError\u001b[0m                                 Traceback (most recent call last)",
      "\u001b[0;32m<ipython-input-11-36df3f696df5>\u001b[0m in \u001b[0;36m<module>\u001b[0;34m\u001b[0m\n\u001b[1;32m      1\u001b[0m \u001b[0;31m# Check Statistics for PSO\u001b[0m\u001b[0;34m\u001b[0m\u001b[0;34m\u001b[0m\u001b[0;34m\u001b[0m\u001b[0m\n\u001b[1;32m      2\u001b[0m \u001b[0;34m\u001b[0m\u001b[0m\n\u001b[0;32m----> 3\u001b[0;31m \u001b[0mmse\u001b[0m \u001b[0;34m=\u001b[0m \u001b[0mL_stats\u001b[0m\u001b[0;34m[\u001b[0m\u001b[0;36m0\u001b[0m\u001b[0;34m]\u001b[0m\u001b[0;34m\u001b[0m\u001b[0;34m\u001b[0m\u001b[0m\n\u001b[0m\u001b[1;32m      4\u001b[0m \u001b[0mbest_particle\u001b[0m \u001b[0;34m=\u001b[0m \u001b[0mL_stats\u001b[0m\u001b[0;34m[\u001b[0m\u001b[0;36m1\u001b[0m\u001b[0;34m]\u001b[0m\u001b[0;34m\u001b[0m\u001b[0;34m\u001b[0m\u001b[0m\n\u001b[1;32m      5\u001b[0m \u001b[0mcal_mse\u001b[0m \u001b[0;34m=\u001b[0m \u001b[0merror\u001b[0m\u001b[0;34m(\u001b[0m\u001b[0mbest_particle\u001b[0m\u001b[0;34m)\u001b[0m\u001b[0;34m\u001b[0m\u001b[0;34m\u001b[0m\u001b[0m\n",
      "\u001b[0;31mNameError\u001b[0m: name 'L_stats' is not defined"
     ]
    }
   ],
   "source": [
    "# Check Statistics for PSO\n",
    "\n",
    "mse = L_stats[0]\n",
    "best_particle = L_stats[1]\n",
    "cal_mse = error(best_particle)\n",
    "print('mse: ', mse)\n",
    "print('cal mse:', cal_mse)"
   ]
  },
  {
   "cell_type": "code",
   "execution_count": null,
   "metadata": {},
   "outputs": [],
   "source": [
    "alpha_1 = best_particle[0]\n",
    "d_alpha_1 = best_particle[1]\n",
    "d_alpha_2 = best_particle[2]\n",
    "r_1 = best_particle[3]\n",
    "d_r_1 = best_particle[4]\n",
    "K_1 = best_particle[5]\n",
    "d_K_1 = best_particle[6]\n",
    "beta_4 = best_particle[7]\n",
    "d_beta_4 = best_particle[8]\n",
    "theta_1 = best_particle[9]\n",
    "theta_2 = best_particle[10]\n",
    "A_y = best_particle[11]\n",
    "d_A_y = best_particle[12]\n",
    "\n",
    "alpha_2 = alpha_1 + d_alpha_1\n",
    "alpha_3 = alpha_2 + d_alpha_2\n",
    "r_2 = r_1 + d_r_1\n",
    "K_2 = K_1 * d_K_1\n",
    "beta_3 = beta_4 + d_beta_4\n",
    "A_x = A_y + d_A_y\n",
    "\n",
    "print(\"The Finalised Parameters are \")\n",
    "print(\"alpha_1:\", alpha_1)\n",
    "print(\"alpha_2:\", alpha_2)\n",
    "print(\"alpha_3:\", alpha_3)\n",
    "print(\"r_1:\", r_1)\n",
    "print(\"r_2:\", r_2)\n",
    "print(\"K_1:\", K_1)\n",
    "print(\"K_2:\", K_2)\n",
    "print(\"beta_3:\", beta_3)\n",
    "print(\"beta_4:\", beta_4)\n",
    "print(\"theta_1:\", theta_1)\n",
    "print(\"theta_2:\", theta_2)\n",
    "print(\"A_x:\", A_x)\n",
    "print(\"A_y:\", A_y)"
   ]
  },
  {
   "cell_type": "markdown",
   "metadata": {},
   "source": [
    "Visualise Solutions\n",
    "-------------------"
   ]
  },
  {
   "cell_type": "code",
   "execution_count": null,
   "metadata": {
    "scrolled": true
   },
   "outputs": [],
   "source": [
    "X, Y, Z = solve(best_particle)\n",
    "print(X,Y,Z)"
   ]
  },
  {
   "cell_type": "code",
   "execution_count": null,
   "metadata": {},
   "outputs": [],
   "source": [
    "plt.plot(data['t'], X, 'g') # Post-PSO ODE\n",
    "plt.plot(data['t'], data['x']) # Actual data"
   ]
  },
  {
   "cell_type": "code",
   "execution_count": null,
   "metadata": {},
   "outputs": [],
   "source": [
    "plt.plot(data['t'], Y, 'g') # Post-PSO ODE\n",
    "plt.plot(data['t'], data['y']) # Actual data"
   ]
  },
  {
   "cell_type": "code",
   "execution_count": null,
   "metadata": {},
   "outputs": [],
   "source": [
    "plt.plot(data['t'], Z, 'g') # Post-PSO ODE\n",
    "plt.plot(data['t'], data['z']) # Actual data"
   ]
  },
  {
   "cell_type": "code",
   "execution_count": null,
   "metadata": {},
   "outputs": [],
   "source": [
    "# Plot all fitted solutions and data on the same plot\n",
    "\n",
    "plt.plot(data['t'], X, color = 'b', linestyle = '-', label = \"Eilis's Fitted\")\n",
    "plt.plot(data['t'], data['x'], color = 'b', linestyle = '--', label = \"Eilis's Actual\")\n",
    "\n",
    "plt.plot(data['t'], Y, color = 'orange', linestyle = '-', label = \"Tony's Fitted\")\n",
    "plt.plot(data['t'], data['y'], color = 'orange', linestyle = '--', label = \"Tony's Actual\")\n",
    "\n",
    "plt.plot(data['t'], Z, color = 'g', linestyle = '-', label = \"Homesickness's Fitted\")\n",
    "plt.plot(data['t'], data['z'], color = 'g', linestyle = '--', label = \"Homesickness's Actual\")\n",
    "\n",
    "plt.title(\"Emotions with time\")\n",
    "plt.ylabel(\"Emotions of character\")\n",
    "plt.xlabel(\"Time\")\n",
    "plt.legend(loc='center', bbox_to_anchor=(0.5, -0.25), ncol=3)\n",
    "\n",
    "plt.savefig(\"actual_fitted.eps\",  bbox_inches = \"tight\")"
   ]
  },
  {
   "cell_type": "markdown",
   "metadata": {},
   "source": [
    "# Fix Parameters\n",
    "\n",
    "Comment out the code block below to use new PSO-generated values (i.e. above)in subsequent analysis."
   ]
  },
  {
   "cell_type": "code",
   "execution_count": 7,
   "metadata": {},
   "outputs": [],
   "source": [
    "'''\n",
    "X = [0.,5.27663819,5.2766701,5.2766701,5.2766701,5.2766701, 5.2766701,5.2766701,5.2766701,5.2766701,5.2766701,5.2766701, 5.2766701 ,5.2766701 ,5.2766701 ]\n",
    "Y=[0.,6.13061656,6.13064506,6.13064506,6.13064506,6.13064506,6.13064506,6.13064506,6.13064506,6.13064506,6.13064506,6.13064506,6.13064506,6.13064506,6.13064506]\n",
    "Z=[-10.,0.10997115,0.10997202,0.10997202,0.10997202,0.10997202,0.10997202,0.10997202,0.10997202,0.10997202,0.10997202,0.10997202,0.10997202,0.10997202,0.10997202]\n",
    "'''\n",
    "\n",
    "soln_lst = [[-7.519434309931023, -5.267421958133589, -0.05583147225366243],[5.08190428494869, 8.246854930714376, 0.044817626180032995]]\n",
    "\n",
    "alpha_1 = 2.1068759466637026\n",
    "alpha_2 = 4.480702375732779\n",
    "alpha_3 = 10.603904799085347\n",
    "r_1 = 2.993538890437577\n",
    "r_2 = 6.4339728081914505\n",
    "K_1 = 8.74468281770518\n",
    "K_2 = 9.491334454238224\n",
    "beta_3 = 0.06750530433152813\n",
    "beta_4 = 0.016028697861847352\n",
    "theta_1 = 1.215210285112281\n",
    "theta_2 = 4.753870162072913\n",
    "A_x = 12.505995545793603\n",
    "A_y = 9.35597733245975\n",
    "\n",
    "d_alpha_1 =alpha_2 - alpha_1\n",
    "d_alpha_2 = alpha_3 - alpha_2 \n",
    "d_r_1 = r_2-  r_1\n",
    "d_K_1 = K_2 / K_1 \n",
    "d_beta_4 = beta_3 - beta_4\n"
   ]
  },
  {
   "cell_type": "markdown",
   "metadata": {},
   "source": [
    "Finding Critical Points\n",
    "-----------------------"
   ]
  },
  {
   "cell_type": "code",
   "execution_count": 10,
   "metadata": {},
   "outputs": [],
   "source": [
    "from scipy.optimize import fsolve"
   ]
  },
  {
   "cell_type": "code",
   "execution_count": null,
   "metadata": {},
   "outputs": [],
   "source": [
    "def cdXdt(X, Y, Z):\n",
    "    return -alpha_1*X + r_1*Y*(1-Y/K_1) - theta_1*Z + A_y\n",
    "\n",
    "def cdYdt(X, Y, Z):\n",
    "    return -alpha_2*Y + r_2*Z*(1-Z/K_2) + theta_2*X + A_x\n",
    "\n",
    "def cdZdt(X, Y, Z):\n",
    "    return -alpha_3*Z + beta_3*X + beta_4*Y"
   ]
  },
  {
   "cell_type": "code",
   "execution_count": null,
   "metadata": {},
   "outputs": [],
   "source": [
    "def equations(p):\n",
    "    x, y, z = p\n",
    "    return (cdXdt(x,y,z), cdYdt(x,y,z), cdZdt(x,y,z))\n",
    "\n",
    "soln_lst = []\n",
    "nolst = []\n",
    "for i in np.arange(-100,100,5):\n",
    "    for j in np.arange(-100,100,5):\n",
    "        for k in np.arange(-100,100,5):\n",
    "            x, y, z=  fsolve(equations, (i, j, k))\n",
    "            soln = [x,y,z]\n",
    "            soln_norm = np.linalg.norm(soln)\n",
    "            soln_norm = np.ceil(soln_norm *100)/100\n",
    "            if soln_norm not in nolst:\n",
    "                nolst.append(soln_norm)\n",
    "                if np.abs(cdXdt(x,y,z)) < 0.5 and np.abs(cdYdt(x,y,z)) < 0.5 and np.abs(cdZdt(x,y,z)) < 0.5:\n",
    "                    soln_lst.append(soln)\n",
    "\n",
    "for soln in soln_lst:\n",
    "    x,y,z = soln\n",
    "    print(cdXdt(x,y,z), cdYdt(x,y,z), cdZdt(x,y,z))"
   ]
  },
  {
   "cell_type": "code",
   "execution_count": null,
   "metadata": {},
   "outputs": [],
   "source": [
    "# Critical Points\n",
    "soln_lst"
   ]
  },
  {
   "cell_type": "markdown",
   "metadata": {},
   "source": [
    "# Numerical Simulation (Trajectories)"
   ]
  },
  {
   "cell_type": "code",
   "execution_count": null,
   "metadata": {},
   "outputs": [],
   "source": [
    "# Solve numerically for more trajectories\n",
    "\n",
    "def dUdt(U, t):\n",
    "    X = U[0]\n",
    "    Y = U[1]\n",
    "    Z = U[2]\n",
    "\n",
    "    dXdt_var = dXdt(alpha_1, r_1, K_1, theta_1, A_y, X, Y, Z)\n",
    "    dYdt_var = dYdt(alpha_2, r_2, K_2, theta_2, A_x, X, Y, Z)\n",
    "    dZdt_var = dZdt(alpha_3, beta_3, beta_4, X, Y, Z)\n",
    "\n",
    "    return [dXdt_var, dYdt_var, dZdt_var]\n",
    "\n",
    "U0 = [0, 0, -10]\n",
    "time = np.linspace(0, 200, 100000)\n",
    "\n",
    "init_lst = [U0,[-9.515823142290419, -7.408726507183227, -0.07177740561907572]]\n",
    "trajectory_lst = []\n",
    "\n",
    "solution = odeint(dUdt, U0, time)\n",
    "\n",
    "X = solution[:, 0]\n",
    "Y = solution[:, 1]\n",
    "Z = solution[:, 2]\n"
   ]
  },
  {
   "cell_type": "code",
   "execution_count": null,
   "metadata": {},
   "outputs": [],
   "source": [
    "init_lst = []\n",
    "\n",
    "def traj_calc(init_lst):\n",
    "    traj_lst = []\n",
    "    for i in init_lst:\n",
    "        solved_crit = odeint(dUdt,i,time)\n",
    "        X = solved_crit[:, 0]\n",
    "        Y = solved_crit[:, 1]\n",
    "        Z = solved_crit[:, 2]\n",
    "        traj_lst.append((X,Y,Z))\n",
    "    return traj_lst\n",
    "\n",
    "def populate_init_lst(n):\n",
    "    \"\"\"\n",
    "    within box between [-10,10]^3, populate n evenly distributed points\n",
    "    \"\"\"\n",
    "    out = [(x, y, z) for x in range(-10, 11, 10//n) for y in range(-10, 11, 10//n) for z in range(-10, 11, 10//n)]\n",
    "    return out\n",
    "\n",
    "# print(init_lst)\n",
    "init_lst.append(populate_init_lst(1))\n",
    "init_lst = init_lst[0]\n",
    "n_init_lst = np.array(init_lst)\n",
    "int_lst = n_init_lst.reshape(-1, 3)\n",
    "\"\"\"\n",
    "for i in int_lst:\n",
    "    xx,yy,zz = i\n",
    "    # print(xx,yy,zz)\n",
    "    ax.plot(xx,yy,zz, 'b')\n",
    "\"\"\"\n",
    "\n",
    "\n",
    "trajectory_lst = traj_calc(int_lst)\n",
    "\n",
    "\n",
    "\"\"\"\n",
    "print(init_lst)\n",
    "print(int_lst)\n",
    "print(len(trajectory_lst))\n",
    "\"\"\"\n",
    "\n",
    "\n",
    "\n"
   ]
  },
  {
   "cell_type": "markdown",
   "metadata": {},
   "source": [
    "# Visualisation of Phase Space / Planes"
   ]
  },
  {
   "cell_type": "code",
   "execution_count": null,
   "metadata": {},
   "outputs": [],
   "source": [
    "from mpl_toolkits.mplot3d import axes3d # Used for the 3d bifurcation plot\n",
    "import matplotlib.patches as mpatches # used to write custom legends\n",
    "\n",
    "# Visualise exact X,Y,Z solution\n",
    "fig = plt.figure()\n",
    "ax = fig.gca(projection='3d')\n",
    "ax.plot(X,Y,Z, 'g')\n",
    "ax.set_xlabel('x')\n",
    "ax.set_ylabel('y')\n",
    "ax.set_zlabel('z')\n",
    "plt.show()"
   ]
  },
  {
   "cell_type": "code",
   "execution_count": null,
   "metadata": {},
   "outputs": [],
   "source": [
    "def phase_space_analysis(x,y,z,n,d):\n",
    "    \"\"\"\n",
    "    Input:\n",
    "    (x,y,z) pair of critical points\n",
    "    n number of points in a uniform mesh\n",
    "    d: delta; the neighborhood around x,y,z captured\n",
    "    \n",
    "    Returns: phase space around neighborhood +-2 \n",
    "    \n",
    "    DANGER: Currently using global variables for alpha_1, d_alpha_2 etc\n",
    "    DANGER2: Similarly I had to declare global so that the 2D plots below would be more efficient\n",
    "    \"\"\"\n",
    "    \n",
    "    global x_fl, X_min, X_max, y_fl, Y_min, Y_max, z_fl, Z_min,Z_max\n",
    "    global tX, tY, tZ \n",
    "    \n",
    "    \"\"\"\n",
    "    # Ver 1; arguments\n",
    "    x_fl = np.floor(x)\n",
    "    X_min = x_fl - d\n",
    "    X_max = x_fl + d\n",
    "\n",
    "    y_fl = np.floor(y)\n",
    "    Y_min = y_fl -d \n",
    "    Y_max = y_fl + d\n",
    "\n",
    "    z_fl = np.floor(z)\n",
    "    Z_min = z_fl - d\n",
    "    Z_max = z_fl + d\n",
    "\n",
    "    X_n = Y_n = Z_n = n\n",
    "    \"\"\"\n",
    "    \n",
    "\n",
    "    \"\"\"\n",
    "    # Ver 2\n",
    "    X_min = Y_min = Z_min = -10\n",
    "    X_max = Y_max = Z_max = 10\n",
    "    \"\"\"\n",
    "    \n",
    "    # Ver 3; continuous bands\n",
    "    x_fl = np.floor(x)\n",
    "    X_min = x - d\n",
    "    X_max = x + d\n",
    "\n",
    "    y_fl = np.floor(y)\n",
    "    Y_min = y -d \n",
    "    Y_max = y + d\n",
    "\n",
    "    z_fl = np.floor(z)\n",
    "    Z_min = z - d\n",
    "    Z_max = z + d\n",
    "    \n",
    "    tX, tY, tZ = np.meshgrid(np.arange(X_min, X_max, (X_max-X_min)/X_n), np.arange(Y_min, Y_max, (Y_max-Y_min)/Y_n), np.arange(Z_min, Z_max, (Z_max-Z_min)/Z_n))\n",
    "\n",
    "    # Apply the relevant functions \n",
    "    global U\n",
    "    global V\n",
    "    global W\n",
    "    U = dXdt(alpha_1, r_1, K_1, theta_1, A_y, tX, tY, tZ)\n",
    "    V = dYdt(alpha_2, r_1 + d_r_1, K_1 + d_K_1, theta_2, A_x, tX, tY, tZ)\n",
    "    W = dZdt(alpha_3, beta_4 + d_beta_4,beta_4, tX, tY, tZ)\n",
    "    \n",
    "    # Normalise\n",
    "    R = np.sqrt(U**2 + V**2 + W**2)\n",
    "    U = U / R\n",
    "    V = V / R\n",
    "    W = W / R\n",
    "\n",
    "    # from mpl_toolkits.mplot3d import Axes3D; above\n",
    "    # Static 3D Visualisation\n",
    "    fig = plt.figure()\n",
    "    ax = fig.add_subplot(111, projection='3d')\n",
    "\n",
    "    \n",
    "    ax.set_xlim3d(-10,10)\n",
    "    ax.set_ylim3d(-10,10)\n",
    "    ax.set_zlim3d(-10,10)\n",
    "    \n",
    "    \n",
    "    \n",
    "    ax.plot(X,Y,Z, 'g', label = \"story\", color = 'm')\n",
    "    ax.set_xlabel('x')\n",
    "    ax.set_ylabel('y')\n",
    "    ax.set_zlabel('z')\n",
    "    ax.legend()\n",
    "    \n",
    "    \n",
    "    for i in trajectory_lst:\n",
    "        xx,yy,zz = i\n",
    "        ax.plot(xx,yy,zz, color = 'b', linestyle = ':')\n",
    "    \n",
    "    for i in soln_lst:\n",
    "        x,y,z = i\n",
    "        ax.scatter(x,y,z,'r')\n",
    "    \n",
    "    \"\"\"\n",
    "    # Animated 3D visualisation\n",
    "    from matplotlib import animation\n",
    "    def init():\n",
    "        ax.quiver(tX, tY, tZ, U, V, W,length=0.5)\n",
    "        return fig,\n",
    "\n",
    "    def animate(i):\n",
    "        ax.view_init(elev=10., azim=i)\n",
    "        return fig,\n",
    "\n",
    "    # Animate\n",
    "    anim = animation.FuncAnimation(fig, animate, init_func=init,\n",
    "                                   frames=360, interval=20, blit=True)\n",
    "    # Save\n",
    "    anim.save('basic_animation.mp4', fps=30, extra_args=['-vcodec', 'libx264'])\n",
    "    \"\"\"\n",
    "\n",
    "    # ax.quiver(tX, tY, tZ, U, V, W,length=0.5)\n",
    "    plt.show()\n",
    "    return\n",
    "\n",
    "n = X_n = Y_n = Z_n = 3\n",
    "\n",
    "print(soln_lst)\n",
    "# trajectory_lst = []\n",
    "\n",
    "\"\"\"\n",
    "for i in soln_lst:\n",
    "    x,y,z = i\n",
    "    phase_space_analysis(x,y,z,n,2)\n",
    "\"\"\"\n",
    "i = soln_lst[1]\n",
    "x,y,z = i\n",
    "phase_space_analysis(x,y,z,n,0.05)\n"
   ]
  },
  {
   "cell_type": "markdown",
   "metadata": {},
   "source": [
    "Remark: below set of code is run exactly once for last set of critical points set as of x,y,z "
   ]
  },
  {
   "cell_type": "code",
   "execution_count": null,
   "metadata": {},
   "outputs": [],
   "source": [
    "i = soln_lst[1]\n",
    "x,y,z = i\n",
    "phase_space_analysis(x,y,z,n,0.05)\n"
   ]
  },
  {
   "cell_type": "code",
   "execution_count": null,
   "metadata": {},
   "outputs": [],
   "source": [
    "# v for visual adjustment\n",
    "v = 2\n",
    "mid = int(np.floor(X_n)/2)\n",
    "plt.figure()\n",
    "\n",
    "ax = plt.gca()\n",
    "plt.plot(X,Y,'g', label = 'story')\n",
    "#plt.legend()\n",
    "\n",
    "\n",
    "for i in trajectory_lst:\n",
    "    xx,yy,zz = i\n",
    "    plt.plot(xx,yy, 'b',linestyle=':')\n",
    "\n",
    "\"\"\"\n",
    "i = trajectory_lst[3]\n",
    "xx,yy,zz = i\n",
    "plt.plot(xx,yy, 'b',linestyle = ':')\n",
    "\"\"\"\n",
    "\n",
    "\n",
    "plt.xlabel('x')\n",
    "plt.ylabel('y')\n",
    "# ax.set_xlim([X_min,X_max])\n",
    "# ax.set_ylim([Y_min,Y_max])\n",
    "\n",
    "\"\"\"\n",
    "plt.quiver(tX[:,:,mid], tY[:,:,mid], U[:,:,mid], W[:,:,mid])\n",
    "\"\"\"\n",
    "\n",
    "plt.show()"
   ]
  },
  {
   "cell_type": "code",
   "execution_count": null,
   "metadata": {},
   "outputs": [],
   "source": [
    "mid = int(np.floor(X_n)/2)\n",
    "plt.figure()\n",
    "\n",
    "ax = plt.gca()\n",
    "plt.xlabel('x')\n",
    "plt.ylabel('y')\n",
    "# ax.set_xlim([X_min,X_max])\n",
    "# ax.set_ylim([Y_min,Y_max])\n",
    "\n",
    "plt.quiver(tX[:,:,mid], tY[:,:,mid], U[:,:,mid], W[:,:,mid])\n",
    "\n",
    "\n",
    "plt.show()"
   ]
  },
  {
   "cell_type": "code",
   "execution_count": null,
   "metadata": {},
   "outputs": [],
   "source": [
    "mid = int(np.floor(Y_n)/2)\n",
    "plt.figure()\n",
    "\n",
    "ax = plt.gca()\n",
    "plt.plot(X,Z,'g',label ='story')\n",
    "plt.xlabel('x')\n",
    "plt.ylabel('z')\n",
    "# ax.set_xlim([X_min, X_max])\n",
    "# ax.set_ylim([Z_min,Z_max])\n",
    "\"\"\"\n",
    "# plt.quiver(tX[mid,:,:], tZ[mid,:,:], U[mid,:,:], W[mid,:,:])\n",
    "plt.quiver(tY[:,mid,:], tZ[:,mid,:], V[:,mid,:], W[:,mid,:])\n",
    "\"\"\"\n",
    "\n",
    "plt.legend()\n",
    "for i in trajectory_lst:\n",
    "    xx,yy,zz = i\n",
    "    plt.plot(xx,zz, 'b',linestyle=':')\n",
    "\n",
    "plt.show()"
   ]
  },
  {
   "cell_type": "code",
   "execution_count": null,
   "metadata": {},
   "outputs": [],
   "source": [
    "mid = int(np.floor(Y_n)/2)\n",
    "plt.figure()\n",
    "\n",
    "ax = plt.gca()\n",
    "# plt.plot(X,Z,'g')\n",
    "plt.xlabel('x')\n",
    "plt.ylabel('z')\n",
    "# ax.set_xlim([X_min, X_max])\n",
    "# ax.set_ylim([Z_min,Z_max])\n",
    "\"\"\"\n",
    "plt.quiver(tY[:,mid,:], tZ[:,mid,:], V[:,mid,:], W[:,mid,:])\n",
    "\"\"\"\n",
    "\n",
    "plt.quiver(tX[mid,:,:], tZ[mid,:,:], U[mid,:,:], W[mid,:,:])\n",
    "\n",
    "\n",
    "plt.show()"
   ]
  },
  {
   "cell_type": "code",
   "execution_count": null,
   "metadata": {},
   "outputs": [],
   "source": [
    "mid = int(np.floor(X_n)/2)\n",
    "plt.figure()\n",
    "\n",
    "ax = plt.gca()\n",
    "plt.plot(Y,Z,'g')\n",
    "plt.xlabel('y')\n",
    "plt.ylabel('z')\n",
    "# ax.set_xlim([Y_min,Y_max])\n",
    "# ax.set_ylim([Z_min,Z_max])\n",
    "\n",
    "#plt.quiver(tY[:,mid,:], tZ[:,mid,:], V[:,mid,:], W[:,mid,:])\n",
    "\n",
    "for i in trajectory_lst:\n",
    "    xx,yy,zz = i\n",
    "    plt.plot(yy,zz, 'b', linestyle=':')\n",
    "\n",
    "\"\"\"\n",
    "plt.quiver(tX[mid,:,:], tZ[mid,:,:], U[mid,:,:], W[mid,:,:])\n",
    "\"\"\"\n",
    "\n",
    "plt.show()"
   ]
  },
  {
   "cell_type": "code",
   "execution_count": null,
   "metadata": {},
   "outputs": [],
   "source": [
    "mid = int(np.floor(X_n)/2)\n",
    "plt.figure()\n",
    "\n",
    "ax = plt.gca()\n",
    "# plt.plot(Y,Z,'g')\n",
    "plt.xlabel('y')\n",
    "plt.ylabel('z')\n",
    "# ax.set_xlim([Y_min,Y_max])\n",
    "# ax.set_ylim([Z_min,Z_max])\n",
    "\n",
    "plt.quiver(tY[:,mid,:], tZ[:,mid,:], V[:,mid,:], W[:,mid,:])\n",
    "\n",
    "\"\"\"\n",
    "plt.quiver(tX[mid,:,:], tZ[mid,:,:], U[mid,:,:], W[mid,:,:])\n",
    "\"\"\"\n",
    "\n",
    "plt.show()"
   ]
  },
  {
   "cell_type": "markdown",
   "metadata": {},
   "source": [
    "# Stability Analysis of Critical Points "
   ]
  },
  {
   "cell_type": "code",
   "execution_count": null,
   "metadata": {},
   "outputs": [],
   "source": [
    "import sympy\n",
    "\n",
    "# Eigenvalues and Eigenvectors solver\n",
    "sympy.init_printing(use_latex=True)\n",
    "\n",
    "# s for symbol prefixed to parameters; to not intefere with prev namespace\n",
    "sx,sy, sz, sa1, sa2, sa3, sr1, sr2, sK1, sK2, sb3, sb4, st1, st2, sAx, sAy   = sympy.symbols(\"x, y, z, alpha1,alpha2,alpha3,r1,r2,K1,K2,beta3,beta4,theta1,theta2,A_x,A_y\")\n",
    "\n",
    "sdXdt = -1 * sa1 *sx + sr1 *sy*(1-sy/sK1) - st1*sz + sAy \n",
    "sdYdt = -1 * sa2*sy + sr2*sz*(1-sz/sK2) + st2*sx + sAx\n",
    "sdZdt = -1 * sa3*sz + sb3*sx + sb4*sy\n",
    "\n",
    "# Symbolic expression of the matrix\n",
    "sys = sympy.Matrix([sdXdt, sdYdt,sdZdt])\n",
    "var = sympy.Matrix([sx, sy,sz])\n",
    "jac = sys.jacobian(var)\n",
    "\n",
    "# You can convert jac to a numerical function:\n",
    "ODE_sys_jac1 = sympy.lambdify((sx, sy, sz, sa1, sa2, sa3, sr1, sr2, sK1, sK2, sb3, sb4, st1, st2, sAx, sAy), jac, dummify=False)\n",
    "\n",
    "# Fix parameters; assume defined\n",
    "\n",
    "ODE_sys_jac = lambda x,y,z : ODE_sys_jac1(x,y,z, alpha_1,alpha_2,alpha_3, r_1,r_2, K_1,K_2, beta_3, beta_4, theta_1,theta_2,A_x,A_y)\n",
    "\n",
    "# Subtitute to evaluate Jacobian at point\n",
    "def list_for_subs(alpha_1,alpha_2,alpha_3, r_1,r_2, K_1,K_2, beta_3, beta_4, theta_1,theta_2,A_x,A_y):\n",
    "    out = [(sa1,alpha_1),(sa2,alpha_2),(sa3,alpha_3),(sr1,r_1),(sr2,r_2),(sK1,K_1),(sK2,K_2),(sb3,beta_3),(sb4,beta_4),(st1,theta_1),(st2,theta_2),(sAx,A_x),(sAy,A_y)]\n",
    "    return out\n",
    "\n",
    "print(alpha_1,alpha_2,alpha_3, r_1,r_2, K_1,K_2, beta_3, beta_4, theta_1,theta_2,A_x,A_y)\n",
    "print(\"Check ODE is as in our paper:\")\n",
    "sympy.pprint(sys)\n",
    "print(\"Check Jacobian for ODE is correct for our paper:\")\n",
    "sympy.pprint(jac)\n",
    "print(\"Simplifying the Jacobian by grouping similar terms:\")\n",
    "sympy.pprint(sympy.simplify(jac))\n",
    "print(\"Substituting current parameter values into ODE system:\")\n",
    "sympy.pprint(sys.subs(list_for_subs(alpha_1,alpha_2,alpha_3, r_1,r_2, K_1,K_2, beta_3, beta_4, theta_1,theta_2,A_x,A_y)))\n",
    "print(\"Substituting current parameter values into Jacobian:\")\n",
    "sympy.pprint(jac.subs(list_for_subs(alpha_1,alpha_2,alpha_3, r_1,r_2, K_1,K_2, beta_3, beta_4, theta_1,theta_2,A_x,A_y)))\n",
    "\n",
    "\n",
    "print(\"\\nAnd in latex: \\n\" + str(sympy.latex(sympy.simplify(jac))))\n",
    "print(\"\\nAnd in latex: \\n\" + str(sympy.latex(sys)))"
   ]
  },
  {
   "cell_type": "code",
   "execution_count": null,
   "metadata": {},
   "outputs": [],
   "source": [
    "# Create numerical function for ODE system from symbolic ODE system\n",
    "\n",
    "ODE_sys_sym1 = sympy.lambdify((sx, sy, sz, sa1, sa2, sa3, sr1, sr2, sK1, sK2, sb3, sb4, st1, st2, sAx, sAy), sys, dummify=False)\n",
    "ODE_sys_sym = lambda x,y,z : ODE_sys_sym1(x,y,z, alpha_1,alpha_2,alpha_3, r_1,r_2, K_1,K_2, beta_3, beta_4, theta_1,theta_2,A_x,A_y)"
   ]
  },
  {
   "cell_type": "code",
   "execution_count": null,
   "metadata": {},
   "outputs": [],
   "source": [
    "def stability(jacobian):\n",
    "    \"\"\"\n",
    "    Input: (completely numerical) Jacobian matrix\n",
    "    Returns: Nature of critical point based on case-based analysis\n",
    "    \"\"\"\n",
    "    determinant = np.linalg.det(jacobian)\n",
    "    trace = np.matrix.trace(jacobian)\n",
    "    print(\"determinant: \" + str(determinant) + \", trace: \" + str(trace))\n",
    "    crit_eig = np.linalg.eig(list(ODE_sys_jac(x,y,z)))\n",
    "    crit_eval = crit_eig[0]\n",
    "    crit_evec =  crit_eig[1]\n",
    "    def check_stable(eigenval_array):\n",
    "        for i in eigenval_array:\n",
    "            if i.real > 0:\n",
    "                return True\n",
    "        return False\n",
    "    def check_asym_stable(eigenval_array):\n",
    "        for i in eigenval_array:\n",
    "            if i.real >= 0:\n",
    "                return True\n",
    "        return False\n",
    "\n",
    "    \"\"\"\n",
    "    # Ver 1: discarded\n",
    "    if np.isclose(trace,0) and np.isclose(determinant,0):\n",
    "        nature = \"Center (Hopf)\"\n",
    "    elif np.isclose(determinant,0):\n",
    "        nature = \"Transcritical (Saddle-Node)\"\n",
    "    elif determinant < 0:\n",
    "        nature = \"Saddle\"\n",
    "    else:\n",
    "        nature = \"Stable\" if check_any_real_part_pos == False else \"Unstable\"\n",
    "        nature += \" Spiral\" if (trace**2 - 4 * determinant) < 0 else \" nodal\"\n",
    "    \"\"\"\n",
    "    # Ver 2: 3 dimensions\n",
    "    if check_stable(crit_eval) == False:\n",
    "        nature = \"Stable\"\n",
    "        if check_asym_stable(crit_eval) == False:\n",
    "            nature = \"Asymptotically Stable\"\n",
    "    else:\n",
    "        nature = \"Unstable\"\n",
    "    return nature\n",
    "\n",
    "for crit in soln_lst:\n",
    "    x,y,z = crit\n",
    "    print(\"Substituting critical point \" + str(crit) + \"\\ninto the system, we obtain: \\n\" + str(ODE_sys_sym(x,y,z)))\n",
    "    print(\"Substituting into the Jacobian with this point we obtain: \\n\" + str(ODE_sys_jac(x,y,z)))\n",
    "    print(\"The critical point is: \" + str(stability(ODE_sys_jac(x,y,z))))\n",
    "    crit_eig = np.linalg.eig(list(ODE_sys_jac(x,y,z)))\n",
    "    crit_eval = crit_eig[0]\n",
    "    crit_evec =  crit_eig[1]\n",
    "    print(\"Which has the eigenvalues \" + str(crit_eval) + \"\\n and the eigenvectors: \\n\" + str(crit_evec))\n",
    "    print(\"\")\n",
    "    print(\"\")\n"
   ]
  },
  {
   "cell_type": "markdown",
   "metadata": {},
   "source": [
    "Liapunov's second method\n",
    "------------------------"
   ]
  },
  {
   "cell_type": "code",
   "execution_count": null,
   "metadata": {},
   "outputs": [],
   "source": [
    "from sympy import *\n",
    "import math\n",
    "import numpy as np\n",
    "import matplotlib.pyplot as plt"
   ]
  },
  {
   "cell_type": "code",
   "execution_count": null,
   "metadata": {},
   "outputs": [],
   "source": [
    "# Translate critical points to the origin\n",
    "U, S, L = symbols('U S L')\n",
    "V = U**2 + S**2 + L**2\n",
    "\n",
    "partialV_partialU = diff(V, U)\n",
    "partialV_partialS = diff(V, S)\n",
    "partialV_partialL = diff(V, L)\n",
    "\n",
    "X = U + soln_lst[1][0]\n",
    "Y = S + soln_lst[1][1]\n",
    "Z = L + soln_lst[1][2]\n",
    "\n",
    "dUdt_symbolic = -alpha_1*X + r_1*Y*(1-Y/K_1) - theta_1*Z + A_y\n",
    "dSdt_symbolic = -alpha_2*Y + r_2*Z*(1-Z/K_2) + theta_2*X + A_x\n",
    "dLdt_symbolic = -alpha_3*Z + beta_3*X + beta_4*Y\n",
    "\n",
    "V_dot = expand(partialV_partialU*dUdt_symbolic + partialV_partialS*dSdt_symbolic + partialV_partialL*dLdt_symbolic)\n",
    "\n",
    "print(V_dot)\n",
    "\n",
    "print_latex(V_dot)"
   ]
  },
  {
   "cell_type": "markdown",
   "metadata": {},
   "source": [
    "Gragani Cyclical Dynamics\n",
    "-------------------------"
   ]
  },
  {
   "cell_type": "code",
   "execution_count": null,
   "metadata": {},
   "outputs": [],
   "source": [
    "def ode_gragani_dXdt(alpha_1, r_1, K_1, theta_1, A_y, X, Y, Z):\n",
    "    return -alpha_1*X + r_1*Y*(1-Y/K_1) - theta_1*Z + A_y\n",
    "\n",
    "def ode_gragani_dYdt(alpha_2, r_2, K_2, theta_2, A_x, lambda_1, lambda_2, X, Y, Z):\n",
    "    return -alpha_2*Y + r_2*Z*(1-Z/K_2) + theta_2*X + A_x*(1+1/(np.e**(-lambda_1*Y+lambda_2)+1))\n",
    "\n",
    "def ode_gragani_dZdt(alpha_3, beta_3, beta_4, X, Y, Z):\n",
    "    return -alpha_3*Z + beta_3*X + beta_4*Y"
   ]
  },
  {
   "cell_type": "code",
   "execution_count": null,
   "metadata": {},
   "outputs": [],
   "source": [
    "def solve_gragani(particle):\n",
    "    # Set the relevant parameters\n",
    "    alpha_1 = particle[0]\n",
    "    d_alpha_1 = particle[1]\n",
    "    d_alpha_2 = particle[2]\n",
    "    r_1 =particle[3]\n",
    "    d_r_1 = particle[4]\n",
    "    K_1 = particle[5]\n",
    "    d_K_1 = particle[6]\n",
    "    beta_4 = particle[7]\n",
    "    d_beta_4 = particle[8]\n",
    "    theta_1 = particle[9]\n",
    "    theta_2 = particle[10]\n",
    "    lambda_1 = particle[11]\n",
    "    lambda_2 = particle[12]\n",
    "    A_y = particle[13]\n",
    "    d_A_y = particle[14]\n",
    "    \n",
    "    alpha_2 = alpha_1 + d_alpha_1\n",
    "    alpha_3 = alpha_2 + d_alpha_2\n",
    "    r_2 = r_1 + d_r_1\n",
    "    K_2 = K_1 * d_K_1\n",
    "    beta_3 = beta_4 + d_beta_4\n",
    "    A_x = A_y + d_A_y\n",
    "\n",
    "    U0 = [0, 0, -10]\n",
    "    \n",
    "    def dUdt(U, t):\n",
    "        X = U[0]\n",
    "        Y = U[1]\n",
    "        Z = U[2]\n",
    "\n",
    "        dXdt_var_gragani = ode_gragani_dXdt(alpha_1, r_1, K_1, theta_1, A_y, X, Y, Z)\n",
    "        dYdt_var_gragani = ode_gragani_dYdt(alpha_2, r_2, K_2, theta_2, A_x, lambda_1, lambda_2, X, Y, Z)\n",
    "        dZdt_var_gragani = ode_gragani_dZdt(alpha_3, beta_3, beta_4, X, Y, Z)\n",
    "\n",
    "        return [dXdt_var_gragani, dYdt_var_gragani, dZdt_var_gragani]\n",
    "\n",
    "    solution = odeint(dUdt, U0, data['t'])\n",
    "    \n",
    "    X = solution[:, 0]\n",
    "    Y = solution[:, 1]\n",
    "    Z = solution[:, 2]\n",
    "    return X, Y, Z"
   ]
  },
  {
   "cell_type": "code",
   "execution_count": null,
   "metadata": {},
   "outputs": [],
   "source": [
    "# Define error function\n",
    "\n",
    "def L_error(particles):\n",
    "    error_lst = [error(i) for i in particles]\n",
    "    return error_lst\n",
    "\n",
    "def error(particle):\n",
    "    X, Y, Z = solve_gragani(particle)\n",
    "    X = np.array(X)\n",
    "    Y = np.array(Y)\n",
    "    Z = np.array(Z)\n",
    "    \n",
    "    error = np.mean((X-data['x'])**2 + (Y-data['y'])**2 + (Z-data['z'])**2)\n",
    "    return error"
   ]
  },
  {
   "cell_type": "code",
   "execution_count": null,
   "metadata": {},
   "outputs": [],
   "source": [
    "%%capture\n",
    "\n",
    "\n",
    "# Set-up hyperparameters\n",
    "options = {'c1': 0.5, 'c2': 0.3, 'w':0.9} # c1 = cognitive parameters, c2 = social parameters, w = inertia\n",
    "\n",
    "# Set bounds\n",
    "#                     alpha_1, d_alpha_1, d_alpha_2, r_1, d_r_1, K_1, d_K_1, beta_4, d_beta_4, theta_1, theta_2, lambda_1, lambda_2, A_y  d_A_y               \n",
    "constraints = (np.array([1,     0,        3,         0,   0,     5,    0.8,    0,        0,       0,      0,        0,         0,     0,   0]),\n",
    "               np.array([5,     5,        7,         5,   5,    10,    1.2,    2,        2,       2,      5,       10,        10,    10,   5]))\n",
    "\n",
    "# Call instance of GlobalBestPSO\n",
    "optimizer = ps.single.GlobalBestPSO(n_particles=20, dimensions=15, options=options, bounds=constraints)\n",
    "\n",
    "# Perform optimization\n",
    "L_stats = optimizer.optimize(L_error, iters=1000)"
   ]
  },
  {
   "cell_type": "code",
   "execution_count": null,
   "metadata": {},
   "outputs": [],
   "source": [
    "# Check Statistics for PSO\n",
    "\n",
    "mse = L_stats[0]\n",
    "best_particle = L_stats[1]\n",
    "cal_mse = error(best_particle)\n",
    "print('mse: ', mse)\n",
    "print('cal mse:', cal_mse)"
   ]
  },
  {
   "cell_type": "code",
   "execution_count": null,
   "metadata": {},
   "outputs": [],
   "source": [
    "alpha_1 = best_particle[0]\n",
    "d_alpha_1 = best_particle[1]\n",
    "d_alpha_2 = best_particle[2]\n",
    "r_1 = best_particle[3]\n",
    "d_r_1 = best_particle[4]\n",
    "K_1 = best_particle[5]\n",
    "d_K_1 = best_particle[6]\n",
    "beta_4 = best_particle[7]\n",
    "d_beta_4 = best_particle[8]\n",
    "theta_1 = best_particle[9]\n",
    "theta_2 = best_particle[10]\n",
    "lambda_1 = best_particle[11]\n",
    "lambda_2 = best_particle[12]\n",
    "A_y = best_particle[13]\n",
    "d_A_y = best_particle[14]\n",
    "\n",
    "alpha_2 = alpha_1 + d_alpha_1\n",
    "alpha_3 = alpha_2 + d_alpha_2\n",
    "r_2 = r_1 + d_r_1\n",
    "K_2 = K_1 * d_K_1\n",
    "beta_3 = beta_4 + d_beta_4\n",
    "A_x = A_y + d_A_y\n",
    "\n",
    "print(\"The Finalised Parameters are \")\n",
    "print(\"alpha_1:\", alpha_1)\n",
    "print(\"alpha_2:\", alpha_2)\n",
    "print(\"alpha_3:\", alpha_3)\n",
    "print(\"r_1:\", r_1)\n",
    "print(\"r_2:\", r_2)\n",
    "print(\"K_1:\", K_1)\n",
    "print(\"K_2:\", K_2)\n",
    "print(\"beta_3:\", beta_3)\n",
    "print(\"beta_4:\", beta_4)\n",
    "print(\"theta_1:\", theta_1)\n",
    "print(\"theta_2:\", theta_2)\n",
    "print(\"lambda_1: \", lambda_1)\n",
    "print(\"lambda_2: \", lambda_2)\n",
    "print(\"A_x:\", A_x)\n",
    "print(\"A_y:\", A_y)"
   ]
  },
  {
   "cell_type": "code",
   "execution_count": null,
   "metadata": {},
   "outputs": [],
   "source": [
    "X, Y, Z = solve_gragani(best_particle)\n",
    "print(X,Y,Z)"
   ]
  },
  {
   "cell_type": "code",
   "execution_count": null,
   "metadata": {},
   "outputs": [],
   "source": [
    "plt.plot(data['t'], X, 'g') # Post-PSO ODE\n",
    "plt.plot(data['t'], data['x']) # Actual data"
   ]
  },
  {
   "cell_type": "code",
   "execution_count": null,
   "metadata": {},
   "outputs": [],
   "source": [
    "plt.plot(data['t'], Y, 'g') # Post-PSO ODE\n",
    "plt.plot(data['t'], data['y']) # Actual data"
   ]
  },
  {
   "cell_type": "code",
   "execution_count": null,
   "metadata": {},
   "outputs": [],
   "source": [
    "plt.plot(data['t'], Z, 'g') # Post-PSO ODE\n",
    "plt.plot(data['t'], data['z']) # Actual data"
   ]
  },
  {
   "cell_type": "code",
   "execution_count": null,
   "metadata": {},
   "outputs": [],
   "source": [
    "# Plot all fitted solutions and data on the same plot\n",
    "\n",
    "plt.plot(data['t'], X, color = 'b', linestyle = '-', label = \"Eilis's Fitted\")\n",
    "plt.plot(data['t'], data['x'], color = 'b', linestyle = '--', label = \"Eilis's Actual\")\n",
    "\n",
    "plt.plot(data['t'], Y, color = 'orange', linestyle = '-', label = \"Tony's Fitted\")\n",
    "plt.plot(data['t'], data['y'], color = 'orange', linestyle = '--', label = \"Tony's Actual\")\n",
    "\n",
    "plt.plot(data['t'], Z, color = 'g', linestyle = '-', label = \"Homesickness's Fitted\")\n",
    "plt.plot(data['t'], data['z'], color = 'g', linestyle = '--', label = \"Homesickness's Actual\")\n",
    "\n",
    "plt.title(\"Emotions with time\")\n",
    "plt.ylabel(\"Emotions of character\")\n",
    "plt.xlabel(\"Time\")\n",
    "plt.legend(loc='center', bbox_to_anchor=(0.5, -0.25), ncol=3)\n",
    "\n",
    "plt.savefig(\"actual_fitted_gragani.eps\",  bbox_inches = \"tight\")"
   ]
  },
  {
   "cell_type": "markdown",
   "metadata": {},
   "source": [
    "Regression Solver\n",
    "-----------------"
   ]
  },
  {
   "cell_type": "code",
   "execution_count": null,
   "metadata": {},
   "outputs": [],
   "source": [
    "from sklearn.linear_model import LinearRegression"
   ]
  },
  {
   "cell_type": "code",
   "execution_count": null,
   "metadata": {},
   "outputs": [],
   "source": [
    "# Create x^2 and z^2\n",
    "\n",
    "data['y2'] = data['y']**2\n",
    "data['z2'] = data['z']**2"
   ]
  },
  {
   "cell_type": "code",
   "execution_count": null,
   "metadata": {},
   "outputs": [],
   "source": [
    "data.reset_index(drop=True, inplace=True)"
   ]
  },
  {
   "cell_type": "code",
   "execution_count": null,
   "metadata": {},
   "outputs": [],
   "source": [
    "# create dx, dy, dz\n",
    "x_lag_1 = data['x'].diff().reset_index(drop=True).loc[1:].reset_index(drop=True).copy()\n",
    "y_lag_1 = data['y'].diff().reset_index(drop=True).loc[1:].reset_index(drop=True).copy()\n",
    "z_lag_1 = data['z'].diff().reset_index(drop=True).loc[1:].reset_index(drop=True).copy()\n",
    "\n",
    "time_diff = data['t'].diff().reset_index(drop=True).loc[1:].reset_index(drop=True).copy()\n",
    "\n",
    "data = data.loc[:14]\n",
    "\n",
    "data['x_lag_1'] = x_lag_1\n",
    "data['y_lag_1'] = y_lag_1\n",
    "data['z_lag_1'] = z_lag_1\n",
    "data['time_diff'] = time_diff\n",
    "\n",
    "data['dx'] = data['x_lag_1']/data['time_diff']\n",
    "data['dy'] = data['y_lag_1']/data['time_diff']\n",
    "data['dz'] = data['z_lag_1']/data['time_diff']"
   ]
  },
  {
   "cell_type": "code",
   "execution_count": null,
   "metadata": {},
   "outputs": [],
   "source": [
    "x_df = data[['x', 'y', 'y2', 'z', 'dx']]\n",
    "y_df = data[['x', 'y', 'z', 'z2', 'dy']]\n",
    "z_df = data[['x', 'y', 'z', 'dz']]"
   ]
  },
  {
   "cell_type": "code",
   "execution_count": null,
   "metadata": {},
   "outputs": [],
   "source": [
    "XX = data[['x', 'y', 'y2', 'z']]\n",
    "yy = data['dx']\n",
    "\n",
    "lm = LinearRegression()\n",
    "lm.fit(XX,yy)\n",
    "predicted_dx = lm.predict(XX)\n",
    "\n",
    "predicted_x = data['x'] + predicted_dx*data['time_diff']\n",
    "predicted_x = predicted_x[:-1]\n",
    "predicted_x = np.insert(predicted_x.values, 0, np.nan)\n",
    "data['predicted_x'] = predicted_x\n",
    "\n",
    "plt.plot(data['t'], data['x'], color='blue')\n",
    "plt.plot(data['t'], data['predicted_x'], color='red')\n",
    "plt.xlabel('time')\n",
    "plt.ylabel('X')\n",
    "plt.savefig('linearreg_data_predicted_X.eps')\n",
    "\n",
    "\n",
    "B0_dx = lm.intercept_\n",
    "B1_dx, B2_dx, B3_dx, B4_dx = lm.coef_"
   ]
  },
  {
   "cell_type": "code",
   "execution_count": null,
   "metadata": {},
   "outputs": [],
   "source": [
    "XX = data[['x', 'y', 'z', 'z2']]\n",
    "yy = data['dy']\n",
    "\n",
    "lm = LinearRegression()\n",
    "lm.fit(XX,yy)\n",
    "predicted_dy = lm.predict(XX)\n",
    "\n",
    "predicted_y = data['y'] + predicted_dy*data['time_diff']\n",
    "predicted_y = predicted_y[:-1]\n",
    "predicted_y = np.insert(predicted_y.values, 0, np.nan)\n",
    "data['predicted_y'] = predicted_y\n",
    "\n",
    "plt.plot(data['t'], data['y'],color='blue')\n",
    "plt. plot(data['t'], data['predicted_y'],color='red')\n",
    "plt.xlabel('time')\n",
    "plt.ylabel('Y')\n",
    "plt.savefig('linearreg_data_predicted_Y.eps')\n",
    "\n",
    "B0_dy = lm.intercept_\n",
    "B1_dy, B2_dy, B3_dy, B4_dy = lm.coef_"
   ]
  },
  {
   "cell_type": "code",
   "execution_count": null,
   "metadata": {},
   "outputs": [],
   "source": [
    "XX = data[['x', 'y', 'z']]\n",
    "yy = data['dz']\n",
    "\n",
    "lm = LinearRegression(fit_intercept=False)\n",
    "lm.fit(X,y)\n",
    "predicted_dz = lm.predict(X)\n",
    "\n",
    "predicted_z = data['z'] + predicted_dz*data['time_diff']\n",
    "predicted_z = predicted_z[:-1]\n",
    "predicted_z = np.insert(predicted_z.values, 0, np.nan)\n",
    "data['predicted_z'] = predicted_z\n",
    "\n",
    "plt.plot(data['t'], data['z'], color='blue')\n",
    "plt.plot(data['t'], data['predicted_z'], color='red')\n",
    "plt.xlabel('time')\n",
    "plt.ylabel('Z')\n",
    "plt.savefig('linearreg_data_predicted_Z.eps')\n",
    "\n",
    "\n",
    "B1_dz, B2_dz, B3_dz = lm.coef_"
   ]
  },
  {
   "cell_type": "code",
   "execution_count": null,
   "metadata": {},
   "outputs": [],
   "source": [
    "A_y = B0_dx\n",
    "A_x = B0_dy\n",
    "\n",
    "# beta_1 = B0_dx/A_y\n",
    "alpha_1 = -B1_dx\n",
    "r_1 = B2_dx\n",
    "K_1 = -r_1/B3_dx\n",
    "theta_1 = -B4_dx\n",
    "\n",
    "# beta_2 = B0_dy/A_y\n",
    "theta_2 = B1_dy\n",
    "alpha_2 = -B2_dy\n",
    "r_2 = B3_dy\n",
    "K_2 = -r_2/B4_dy\n",
    "\n",
    "beta_3 = B1_dz\n",
    "beta_4 = B2_dz\n",
    "alpha_3 = -B3_dz\n",
    "\n",
    "details = ''\n",
    "# details += 'beta_1: {}\\n'.format(beta_1)\n",
    "details += 'alpha_1: {}\\n'.format(alpha_1)\n",
    "details += 'r_1: {}\\n'.format(r_1)\n",
    "details += 'K_1: {}\\n'.format(K_1)\n",
    "details += 'theta_1: {}\\n'.format(theta_1)\n",
    "\n",
    "# details += 'beta_2: {}\\n'.format(beta_2)\n",
    "details += 'theta_2: {}\\n'.format(theta_2)\n",
    "details += 'alpha_2: {}\\n'.format(alpha_2)\n",
    "details += 'r_2: {}\\n'.format(r_2)\n",
    "details += 'K_2: {}\\n'.format(K_2)\n",
    "\n",
    "details += 'alpha_3: {}\\n'.format(alpha_3)\n",
    "details += 'beta_3: {}\\n'.format(beta_3)\n",
    "details += 'beta_4: {}\\n'.format(beta_4)\n",
    "\n",
    "print(details)"
   ]
  },
  {
   "cell_type": "code",
   "execution_count": null,
   "metadata": {},
   "outputs": [],
   "source": [
    "U0 = [0, 0, -10]\n",
    "def dXdt(alpha_1, r_1, K_1, theta_1, A_y, X, Y, Z):\n",
    "    return -alpha_1*X + r_1*Y*(1-Y/K_1) - theta_1*Z + A_y\n",
    "\n",
    "def dYdt(alpha_2, r_2, K_2, theta_2, A_x, X, Y, Z):\n",
    "    return -alpha_2*Y + r_2*Z*(1-Z/K_2) + theta_2*X + A_x\n",
    "\n",
    "def dZdt(alpha_3, beta_3, beta_4, X, Y, Z):\n",
    "    return -alpha_3*Z + beta_3*X + beta_4*Y\n",
    "def dUdt(U, t):\n",
    "    X = U[0]\n",
    "    Y = U[1]\n",
    "    Z = U[2]\n",
    "\n",
    "    dXdt_var = dXdt(alpha_1, r_1, K_1, theta_1, A_y, X, Y, Z)\n",
    "    dYdt_var = dYdt(alpha_2, r_2, K_2, theta_2, A_x, X, Y, Z)\n",
    "    dZdt_var = dZdt(alpha_3, beta_3, beta_4, X, Y, Z)\n",
    "\n",
    "    return [dXdt_var, dYdt_var, dZdt_var]\n",
    "    \n",
    "solution = odeint(dUdt, U0, data['t'])"
   ]
  },
  {
   "cell_type": "code",
   "execution_count": null,
   "metadata": {},
   "outputs": [],
   "source": [
    "mse = np.mean(((solution - data[['x','y','z']])**2).to_numpy())\n",
    "print('mse: ', mse)"
   ]
  },
  {
   "cell_type": "code",
   "execution_count": null,
   "metadata": {},
   "outputs": [],
   "source": [
    "plt.plot(data['t'],solution[:,0], color='green')\n",
    "plt.plot(data['t'],data['x'], color='red')\n",
    "\n",
    "plt.xlabel('time')\n",
    "plt.ylabel('X')\n",
    "plt.legend(['generated','observed'])\n",
    "plt.savefig('generated_observed_linearreg_X.eps')"
   ]
  },
  {
   "cell_type": "code",
   "execution_count": null,
   "metadata": {},
   "outputs": [],
   "source": [
    "plt.plot(data['t'],solution[:,1], color='green')\n",
    "plt.plot(data['t'],data['y'], color='red')\n",
    "\n",
    "plt.xlabel('time')\n",
    "plt.ylabel('Y')\n",
    "plt.legend(['generated','observed'])\n",
    "plt.savefig('generated_observed_linearreg_Y.eps')"
   ]
  },
  {
   "cell_type": "code",
   "execution_count": null,
   "metadata": {},
   "outputs": [],
   "source": [
    "plt.plot(data['t'],solution[:,2], color='green')\n",
    "plt.plot(data['t'],data['z'], color='red')\n",
    "\n",
    "plt.xlabel('time')\n",
    "plt.ylabel('Z')\n",
    "plt.legend(['generated','observed'])\n",
    "plt.savefig('generated_observed_linearreg_Z.eps')"
   ]
  },
  {
   "cell_type": "markdown",
   "metadata": {},
   "source": [
    "# Basin of Attraction (Numerical)\n"
   ]
  },
  {
   "cell_type": "code",
   "execution_count": null,
   "metadata": {},
   "outputs": [],
   "source": [
    "# Recalculation of more trajectories in [-10,10]^3 box\n",
    "init_lst = []\n",
    "\n",
    "def traj_calc(init_lst):\n",
    "    traj_lst = []\n",
    "    for i in init_lst:\n",
    "        solved_crit = odeint(dUdt,i,time)\n",
    "        X = solved_crit[:, 0]\n",
    "        Y = solved_crit[:, 1]\n",
    "        Z = solved_crit[:, 2]\n",
    "        traj_lst.append((X,Y,Z))\n",
    "    return traj_lst\n",
    "\n",
    "def populate_init_lst(n,xlim,ylim,zlim):\n",
    "    \"\"\"\n",
    "    within box between [-10,10]^3, populate n evenly distributed points\n",
    "    \"\"\"\n",
    "    out = [(x, y, z) for x in range(-xlim, xlim + 10//n, (2*xlim)//n) for y in range(-ylim, ylim + 10//n, (2*ylim)//n) for z in range(-zlim, zlim + 10//n, (2*zlim)//n)]\n",
    "    return out\n",
    "xlim=10\n",
    "ylim=zlim=10\n",
    "# print(init_lst)\n",
    "init_lst.append(populate_init_lst(20,xlim,ylim,zlim))\n",
    "n_init_lst = np.array(init_lst)\n",
    "int_lst = n_init_lst.reshape(-1, 3)\n",
    "\n",
    "trajectory_lst = traj_calc(int_lst)"
   ]
  },
  {
   "cell_type": "code",
   "execution_count": null,
   "metadata": {},
   "outputs": [],
   "source": [
    "def divergent_class(traj_lst, xlim,ylim,zlim):\n",
    "    \"\"\"\n",
    "    input a set of xlim, ylim, zlim in which any greater, we say it is a divergent point.\n",
    "    return: 0 if not divergent, elsae return 1 for points going to infinity\n",
    "    \"\"\"\n",
    "    class_out = []\n",
    "    for traj in traj_lst:\n",
    "        if np.abs(traj[0][-1]) >= xlim or np.abs(traj[1][-1]) >= ylim or np.abs(traj[2][-1]) >= zlim:\n",
    "            class_out.append(1)\n",
    "        else:\n",
    "            class_out.append(0)\n",
    "    return class_out\n",
    "\n",
    "\n",
    "\n",
    "\n",
    "div_class = np.array(divergent_class(trajectory_lst,6,9,1))\n",
    "\n",
    "from mpl_toolkits.mplot3d import axes3d # Used for the 3d bifurcation plot\n",
    "import matplotlib.patches as mpatches # used to write custom legends\n",
    "from matplotlib import pyplot as plt\n",
    "\n",
    "# Visualise exact X,Y,Z solution\n",
    "fig = plt.figure()\n",
    "ax = fig.add_subplot(111,projection='3d')\n",
    "ax.set_xlabel('x')\n",
    "ax.set_ylabel('y')\n",
    "ax.set_zlabel('z')\n",
    "\n",
    "\n"
   ]
  },
  {
   "cell_type": "code",
   "execution_count": null,
   "metadata": {},
   "outputs": [],
   "source": [
    "test = int_lst.ravel()\n",
    "X_lst = []\n",
    "Y_lst = []\n",
    "Z_lst = []\n",
    "for i in range(len(test)):\n",
    "    if i%3 == 0:\n",
    "        X_lst.append(test[i])\n",
    "    elif i%3 ==1:\n",
    "        Y_lst.append(test[i])\n",
    "    elif i%3 ==2:\n",
    "        Z_lst.append(test[i])\n",
    "        \n",
    "fig = plt.figure()\n",
    "ax = fig.add_subplot(111, projection='3d')\n",
    "ax.scatter(X_lst,Y_lst,Z_lst, c = div_class)\n",
    "plt.savefig('test')\n",
    "\n",
    "\n"
   ]
  },
  {
   "cell_type": "code",
   "execution_count": null,
   "metadata": {},
   "outputs": [],
   "source": []
  },
  {
   "cell_type": "markdown",
   "metadata": {},
   "source": [
    "# Lyapunov Exponents and Strange or Not?"
   ]
  },
  {
   "cell_type": "code",
   "execution_count": 10,
   "metadata": {},
   "outputs": [],
   "source": [
    "# Solve numerically for more trajectories\n",
    "\n",
    "def dUdt(U, t):\n",
    "    X = U[0]\n",
    "    Y = U[1]\n",
    "    Z = U[2]\n",
    "\n",
    "    dXdt_var = dXdt(alpha_1, r_1, K_1, theta_1, A_y, X, Y, Z)\n",
    "    dYdt_var = dYdt(alpha_2, r_2, K_2, theta_2, A_x, X, Y, Z)\n",
    "    dZdt_var = dZdt(alpha_3, beta_3, beta_4, X, Y, Z)\n",
    "\n",
    "    return [dXdt_var, dYdt_var, dZdt_var]\n",
    "\n",
    "U0 = [0, 0, -10]\n",
    "time = np.linspace(0, 200, 30)\n",
    "\n",
    "init_lst = [U0,[-9.515823142290419, -7.408726507183227, -0.07177740561907572]]\n",
    "trajectory_lst = []\n",
    "\n",
    "solution = odeint(dUdt, U0, time)\n",
    "\n",
    "X = solution[:, 0]\n",
    "Y = solution[:, 1]\n",
    "Z = solution[:, 2]\n",
    "\n"
   ]
  },
  {
   "cell_type": "code",
   "execution_count": 43,
   "metadata": {},
   "outputs": [
    {
     "name": "stdout",
     "output_type": "stream",
     "text": [
      "[-4.954458772398709, -3.4325334105517507, -5.624361336008295]\n"
     ]
    }
   ],
   "source": [
    "time = np.linspace(0, 117, 20)\n",
    "\n",
    "solution = odeint(dUdt, U0, time)\n",
    "\n",
    "X = solution[:, 0]\n",
    "Y = solution[:, 1]\n",
    "Z = solution[:, 2]\n",
    "\n",
    "lya_x_sum =0\n",
    "lya_y_sum =0\n",
    "lya_z_sum =0\n",
    "\n",
    "dev = 0.001\n",
    "num_points = len(X)\n",
    "\n",
    "dev_v = np.array([dev,0,0])\n",
    "for i in range(0,num_points-1):\n",
    "    # Take new initial point based on deviation\n",
    "    lya_sol = odeint(dUdt, np.array([X[i],Y[i],Z[i]]) + dev_v, time)\n",
    "    lya_X = lya_sol[:, 0]\n",
    "    \n",
    "    # calculate lyapunov\n",
    "    line = np.abs((X[i]-lya_X[i])/time[1])\n",
    "    if np.abs(line/time[1]) >= 1e-100:\n",
    "        lya_x_sum = lya_x_sum + np.log(np.abs((X[i]-lya_X[i])/time[1]))/((num_points-1)*time[1])\n",
    "    #print(lya_x_sum)\n",
    "    \n",
    "    # Update the normalised vector.\n",
    "    dev_v = lya_sol[-1]/ np.sqrt(np.sum(lya_sol[-1]**2)) * dev\n",
    "\n",
    "dev_v = np.array([0,dev,0])\n",
    "for i in range(0,num_points-1):\n",
    "    # Take new initial point based on deviation\n",
    "    lya_sol = odeint(dUdt, np.array([X[i],Y[i],Z[i]]) + dev_v, time)\n",
    "    lya_Y = lya_sol[:, 1]\n",
    "    \n",
    "    # calculate lyapunov\n",
    "    line = np.abs((Y[i]-lya_Y[i])/time[1])\n",
    "    if np.abs(line/time[1]) >= 1e-100:\n",
    "        lya_y_sum = lya_y_sum + np.log(np.abs((Y[i]-lya_Y[i])/time[1]))/((num_points-1)*time[1])\n",
    "    # Update the normalised vector.\n",
    "    dev_v = lya_sol[-1]/ np.sqrt(np.sum(lya_sol[-1]**2)) * dev\n",
    "\n",
    "dev_v = np.array([0,0,dev])\n",
    "for i in range(0,num_points-1):\n",
    "    # Take new initial point based on deviation\n",
    "    lya_sol = odeint(dUdt, np.array([Z[i],Y[i],Z[i]]) + dev_v, time)\n",
    "    lya_Z = lya_sol[:, 2]\n",
    "    \n",
    "    # calculate lyapunov\n",
    "    line = np.abs((Z[i]-lya_Z[i])/time[1])\n",
    "    if np.abs(line/time[1]) >= 1e-100:\n",
    "        lya_z_sum = lya_z_sum + np.log(np.abs((Z[i]-lya_Z[i])/time[1]))/((num_points-1)*time[1])\n",
    "    \n",
    "    # Update the normalised vector.\n",
    "    dev_v = lya_sol[-1]/ np.sqrt(np.sum(lya_sol[-1]**2)) * dev\n",
    "\n",
    "\n",
    "\n",
    "# print(lya_x_sum)\n",
    "print([lya_x_sum, lya_y_sum, lya_z_sum])\n"
   ]
  },
  {
   "cell_type": "code",
   "execution_count": 12,
   "metadata": {},
   "outputs": [
    {
     "data": {
      "text/plain": [
       "13.0"
      ]
     },
     "execution_count": 12,
     "metadata": {},
     "output_type": "execute_result"
    }
   ],
   "source": [
    "time[1]"
   ]
  },
  {
   "cell_type": "code",
   "execution_count": null,
   "metadata": {},
   "outputs": [],
   "source": []
  },
  {
   "cell_type": "code",
   "execution_count": null,
   "metadata": {},
   "outputs": [],
   "source": []
  }
 ],
 "metadata": {
  "kernelspec": {
   "display_name": "Python 3",
   "language": "python",
   "name": "python3"
  },
  "language_info": {
   "codemirror_mode": {
    "name": "ipython",
    "version": 3
   },
   "file_extension": ".py",
   "mimetype": "text/x-python",
   "name": "python",
   "nbconvert_exporter": "python",
   "pygments_lexer": "ipython3",
   "version": "3.6.9"
  }
 },
 "nbformat": 4,
 "nbformat_minor": 4
}
